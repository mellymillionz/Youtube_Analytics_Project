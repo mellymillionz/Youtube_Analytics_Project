{
 "cells": [
  {
   "cell_type": "markdown",
   "metadata": {
    "toc": true
   },
   "source": [
    "<h1>Table of Contents<span class=\"tocSkip\"></span></h1>\n",
    "<div class=\"toc\"><ul class=\"toc-item\"><li><span><a href=\"#MySQL-Database-Functions\" data-toc-modified-id=\"MySQL-Database-Functions-1\"><span class=\"toc-item-num\">1&nbsp;&nbsp;</span>MySQL Database Functions</a></span><ul class=\"toc-item\"><li><span><a href=\"#Create-YouTube-Database\" data-toc-modified-id=\"Create-YouTube-Database-1.1\"><span class=\"toc-item-num\">1.1&nbsp;&nbsp;</span>Create YouTube Database</a></span></li><li><span><a href=\"#Create-Channels-Table\" data-toc-modified-id=\"Create-Channels-Table-1.2\"><span class=\"toc-item-num\">1.2&nbsp;&nbsp;</span>Create Channels Table</a></span></li><li><span><a href=\"#Insert-Data-into-Channels-Table\" data-toc-modified-id=\"Insert-Data-into-Channels-Table-1.3\"><span class=\"toc-item-num\">1.3&nbsp;&nbsp;</span>Insert Data into Channels Table</a></span></li></ul></li><li><span><a href=\"#API-Functions\" data-toc-modified-id=\"API-Functions-2\"><span class=\"toc-item-num\">2&nbsp;&nbsp;</span>API Functions</a></span></li><li><span><a href=\"#Executing-our-Functions\" data-toc-modified-id=\"Executing-our-Functions-3\"><span class=\"toc-item-num\">3&nbsp;&nbsp;</span>Executing our Functions</a></span><ul class=\"toc-item\"><li><span><a href=\"#YouTube-Search---Store-results-in-channel_ids\" data-toc-modified-id=\"YouTube-Search---Store-results-in-channel_ids-3.1\"><span class=\"toc-item-num\">3.1&nbsp;&nbsp;</span>YouTube Search - Store results in channel_ids</a></span></li></ul></li><li><span><a href=\"#Data-Manipulation-for-csv\" data-toc-modified-id=\"Data-Manipulation-for-csv-4\"><span class=\"toc-item-num\">4&nbsp;&nbsp;</span>Data Manipulation for csv</a></span><ul class=\"toc-item\"><li><span><a href=\"#Cleaning-Functions\" data-toc-modified-id=\"Cleaning-Functions-4.1\"><span class=\"toc-item-num\">4.1&nbsp;&nbsp;</span>Cleaning Functions</a></span></li><li><span><a href=\"#Execute-cleaning\" data-toc-modified-id=\"Execute-cleaning-4.2\"><span class=\"toc-item-num\">4.2&nbsp;&nbsp;</span>Execute cleaning</a></span></li></ul></li><li><span><a href=\"#Statistical-Analysis-Exploration\" data-toc-modified-id=\"Statistical-Analysis-Exploration-5\"><span class=\"toc-item-num\">5&nbsp;&nbsp;</span>Statistical Analysis Exploration</a></span><ul class=\"toc-item\"><li><span><a href=\"#Find-out-which-countries-appear-the-most-times-in-our-list\" data-toc-modified-id=\"Find-out-which-countries-appear-the-most-times-in-our-list-5.1\"><span class=\"toc-item-num\">5.1&nbsp;&nbsp;</span>Find out which countries appear the most times in our list</a></span></li><li><span><a href=\"#ANOVA\" data-toc-modified-id=\"ANOVA-5.2\"><span class=\"toc-item-num\">5.2&nbsp;&nbsp;</span>ANOVA</a></span><ul class=\"toc-item\"><li><span><a href=\"#View-Count\" data-toc-modified-id=\"View-Count-5.2.1\"><span class=\"toc-item-num\">5.2.1&nbsp;&nbsp;</span>View Count</a></span></li><li><span><a href=\"#Subscriber-count\" data-toc-modified-id=\"Subscriber-count-5.2.2\"><span class=\"toc-item-num\">5.2.2&nbsp;&nbsp;</span>Subscriber count</a></span></li><li><span><a href=\"#Video-count\" data-toc-modified-id=\"Video-count-5.2.3\"><span class=\"toc-item-num\">5.2.3&nbsp;&nbsp;</span>Video count</a></span></li></ul></li></ul></li><li><span><a href=\"#Data-Visualization\" data-toc-modified-id=\"Data-Visualization-6\"><span class=\"toc-item-num\">6&nbsp;&nbsp;</span>Data Visualization</a></span></li></ul></div>"
   ]
  },
  {
   "cell_type": "code",
   "execution_count": 253,
   "metadata": {},
   "outputs": [],
   "source": [
    "import mysql.connector \n",
    "import config\n",
    "import requests\n",
    "import time  # This is just to be able to make multiple calls to the API in spaced out time intervals\n",
    "import string # For the remove_special_chars function\n",
    "import pandas as pd"
   ]
  },
  {
   "cell_type": "code",
   "execution_count": null,
   "metadata": {},
   "outputs": [],
   "source": [
    "# cursor.close()\n",
    "# cnx.close()"
   ]
  },
  {
   "cell_type": "markdown",
   "metadata": {
    "heading_collapsed": true
   },
   "source": [
    "# MySQL Database Functions"
   ]
  },
  {
   "cell_type": "markdown",
   "metadata": {
    "hidden": true
   },
   "source": [
    "## Create YouTube Database"
   ]
  },
  {
   "cell_type": "code",
   "execution_count": 338,
   "metadata": {
    "hidden": true,
    "scrolled": true
   },
   "outputs": [
    {
     "data": {
      "text/plain": [
       "5"
      ]
     },
     "execution_count": 338,
     "metadata": {},
     "output_type": "execute_result"
    }
   ],
   "source": [
    "len(channels_data)"
   ]
  },
  {
   "cell_type": "code",
   "execution_count": null,
   "metadata": {
    "hidden": true
   },
   "outputs": [],
   "source": [
    "cnx = mysql.connector.connect(\n",
    "    host = marco_config.host,\n",
    "    user = marco_config.user,\n",
    "    passwd = marco_config.password\n",
    ")\n",
    "cursor = cnx.cursor()"
   ]
  },
  {
   "cell_type": "code",
   "execution_count": null,
   "metadata": {
    "hidden": true
   },
   "outputs": [],
   "source": [
    "from mysql.connector import errorcode\n",
    "\n",
    "db_name = 'youtube'\n",
    "\n",
    "def create_database(cursor, database):\n",
    "    try:\n",
    "        cursor.execute(\n",
    "            f\"CREATE DATABASE {database} DEFAULT CHARACTER SET 'utf8'\")\n",
    "    except mysql.connector.Error as err:\n",
    "        print(\"Failed creating database: {}\".format(err))\n",
    "        exit(1)\n",
    "\n",
    "try:\n",
    "    cursor.execute(\"USE {}\".format(db_name))\n",
    "except mysql.connector.Error as err:\n",
    "    print(\"Database {} does not exists.\".format(db_name))\n",
    "    if err.errno == errorcode.ER_BAD_DB_ERROR:\n",
    "        create_database(cursor, db_name)\n",
    "        print(\"Database {} created successfully.\".format(db_name))\n",
    "        cnx.database = db_name\n",
    "    else:\n",
    "        print(err)\n",
    "        exit(1)"
   ]
  },
  {
   "cell_type": "markdown",
   "metadata": {
    "hidden": true
   },
   "source": [
    "## Create Channels Table"
   ]
  },
  {
   "cell_type": "code",
   "execution_count": null,
   "metadata": {
    "hidden": true
   },
   "outputs": [],
   "source": [
    "create_query = \"\"\"\n",
    "CREATE TABLE channels (\n",
    "    channel_id varchar(20) NOT NULL UNIQUE, \n",
    "    channel_title varchar(60) NOT NULL UNIQUE, \n",
    "    creation_date datetime NOT NULL, \n",
    "    country varchar(20) NOT NULL, \n",
    "    view_count int NOT NULL,\n",
    "    comment_count int,\n",
    "    subscriber_count int NOT NULL,\n",
    "    video_count int NOT NULL,\n",
    "    genres varchar(50)\n",
    "    );\n",
    "\n",
    "\"\"\"\n",
    "cursor.execute(create_query)\n",
    "\n"
   ]
  },
  {
   "cell_type": "markdown",
   "metadata": {
    "hidden": true
   },
   "source": [
    "## Insert Data into Channels Table"
   ]
  },
  {
   "cell_type": "code",
   "execution_count": null,
   "metadata": {
    "hidden": true
   },
   "outputs": [],
   "source": [
    "def insert_channel(parsed_channel_data):\n",
    "    \"\"\"\n",
    "    Inserts parsed_channel_data into the channels table in the youtube MySQL database.\n",
    "    \"\"\"\n",
    "    \n",
    "    channel_tuple = (parsed_channel_data['channel_id'],\n",
    "                     parsed_channel_data['channel_title'],\n",
    "                     parsed_channel_data['creation_date'],\n",
    "                     parsed_channel_data['country'],\n",
    "                     parsed_channel_data['view_count'],\n",
    "                     parsed_channel_data['comment_count'],\n",
    "                     parsed_channel_data['subscriber_count'],\n",
    "                     parsed_channel_data['video_count'],\n",
    "                     parsed_channel_data['genres'])\n",
    "    \n",
    "    insert_statement = \"\"\"\n",
    "        INSERT INTO channels \n",
    "            (channel_id, \n",
    "            channel_title, \n",
    "            creation_date, \n",
    "            country, \n",
    "            view_count,\n",
    "            comment_count,\n",
    "            subscriber_count,\n",
    "            video_count,\n",
    "            genres\n",
    "            )\n",
    "        VALUES\n",
    "            (%s, %s, %s, \n",
    "             %s, %s, %s,\n",
    "             %s, %s, %s)\"\n",
    "        \"\"\"\n",
    "    cursor.executemany(insert_statement,channel_tuple)\n",
    "    cnx.commit()"
   ]
  },
  {
   "cell_type": "markdown",
   "metadata": {
    "heading_collapsed": true
   },
   "source": [
    "# API Functions"
   ]
  },
  {
   "cell_type": "code",
   "execution_count": 559,
   "metadata": {
    "code_folding": [
     0,
     17,
     36,
     53,
     77
    ],
    "hidden": true
   },
   "outputs": [],
   "source": [
    "def remove_special_chars(word):\n",
    "    \"\"\"\n",
    "    Helper function for youtube_search\n",
    "    \n",
    "    Returns a string that removes any characters from word that are not \n",
    "    0123456789abcdefghijklmnopqrstuvwxyzABCDEFGHIJKLMNOPQRSTUVWXYZ!\"#$%&\\'()*+,-./:;<=>?@[\\\\]^_`{|}~ \\t\\n\\r\\x0b\\x0c\n",
    "    \n",
    "    Param word: [str] name of a youtube channel that may or may not include special characters.\n",
    "    \"\"\"\n",
    "    assert type(word) == str, 'The input was not a string'\n",
    "    \n",
    "    new_word = ''\n",
    "    for index in range(len(word)):\n",
    "        if word[index] in string.printable:\n",
    "            new_word += word[index]\n",
    "    return new_word\n",
    "\n",
    "def youtube_search(api_key, channel_name):\n",
    "    \"\"\"\n",
    "    Returns a dictionary with the requested YouTube search information.\n",
    "    \n",
    "    Param api_key: [str] The YouTube Data API key.\n",
    "    Param channel_name: [str] The channel name you want to find the channel id of.\n",
    "    \"\"\"\n",
    "    assert type(channel_name) == str, 'The channel_name is not a string'\n",
    "    \n",
    "    keyword = remove_special_chars(channel_name)\n",
    "    part='part=id,snippet'\n",
    "    keyword=f'q={keyword}'\n",
    "    \n",
    "    url = f'https://www.googleapis.com/youtube/v3/search?key={api_key}&{part}&{keyword}'\n",
    "    \n",
    "    response = requests.get(url)\n",
    "    \n",
    "    return response.json()\n",
    "\n",
    "def parse_search_data(results, channel_name):\n",
    "    \"\"\"\n",
    "    Returns a channel ID and for the given YouTube search result. If no channel matching the same name as\n",
    "    channel_name (which is the exact same input in youtube_search, and which we assume is the correct name),\n",
    "    we return None. \n",
    "    \n",
    "    Param channel_name: [str] exact channel name. should be the same as the keyword parameter for youtube_search.\n",
    "                        This is because we only want to store the id if it corresponds to a channel we actually\n",
    "                        care about, and not some random channel we accidentally pull.\n",
    "    Param results: [dict] The output of a YouTube API search.\n",
    "    \"\"\"\n",
    "    \n",
    "    for index in range(len(results['items'])):\n",
    "        if (results['items'][index]['id']['kind'] == 'youtube#channel') and (results['items'][index]['snippet']['channelTitle'] == channel_name):\n",
    "            return results['items'][index]['id']['channelId'] #, results['items'][index]['snippet']['channelTitle']\n",
    "    return None\n",
    "    \n",
    "def get_channels_data(api_key, channel_ids):\n",
    "    \"\"\"\n",
    "    Returns a dictionary with the requested YouTube channel information. This is limited to 50 results, \n",
    "    so we can only give it 50 ids at once.\n",
    "    \n",
    "    Param api_key: [str] The YouTube Data API key.\n",
    "    \n",
    "    Param channel_id: [list of strs] List with 1 <= len <= 50 channel ids that we want to get information for\n",
    "    \"\"\"\n",
    "    \n",
    "    part = 'part=snippet,statistics,topicDetails'\n",
    "    \n",
    "    # According to the documentation, the ids must be a \"comma-separated list of the YouTube channel \n",
    "    # ID(s) for the resource(s) that are being retrieved\". Thus, we must use ','.join on our list of \n",
    "    # channel ids.\n",
    "    \n",
    "    ids = f'id={\",\".join(channel_ids)}' \n",
    "    \n",
    "    url = f'https://www.googleapis.com/youtube/v3/channels?key={api_key}&{part}&{ids}'\n",
    "    \n",
    "    response = requests.get(url)\n",
    "    \n",
    "    return response.json()\n",
    "\n",
    "def parse_channels_data(channels_data):\n",
    "    \n",
    "    \"\"\"\n",
    "    Returns: A list of parsed channel data from the raw YouTube API Channel call.\n",
    "    \n",
    "    Param channels_data: [Dict] The JSON output of the YouTube Channel API call. Accounts for the possibility of\n",
    "    having 1 - 50 channel entries.\n",
    "    \n",
    "    Note: channel_results['items'] leads you to a list that contains a single dictionary, \n",
    "          which is why we limit to [0]. In theory, it should be a list of dictionaries, \n",
    "          but since we limit our search to a single channel, the list is of length 1\n",
    "    \"\"\"\n",
    "    parsed_channels_data = []\n",
    "    \n",
    "    for index in range(len(channels_data['items'])):\n",
    "    \n",
    "        parsed_channel_data = {}\n",
    "\n",
    "        # channel ID\n",
    "        parsed_channel_data['channel_id'] = channels_data['items'][index]['id'] \n",
    "\n",
    "        # channel name\n",
    "        parsed_channel_data['channel_title'] = channels_data['items'][index]['snippet']['title']\n",
    "\n",
    "        # date created\n",
    "        try:\n",
    "            parsed_channel_data['creation_date'] = channels_data['items'][index]['snippet']['publishedAt'] \n",
    "\n",
    "        except:\n",
    "            parsed_channel_data['creation_date'] = None\n",
    "\n",
    "        # where the user is located\n",
    "        try:\n",
    "            parsed_channel_data['country'] = channels_data['items'][index]['snippet']['country'] \n",
    "\n",
    "        except:\n",
    "\n",
    "            parsed_channel_data['country'] = None\n",
    "\n",
    "        # total views on their videos\n",
    "        parsed_channel_data['view_count'] = channels_data['items'][index]['statistics']['viewCount']\n",
    "\n",
    "        # number of comments for the channel\n",
    "        parsed_channel_data['comment_count'] = channels_data['items'][index]['statistics']['commentCount'] \n",
    "\n",
    "        # number of subscribers to 3 sig figs\n",
    "        parsed_channel_data['subscriber_count'] = channels_data['items'][index]['statistics']['subscriberCount'] \n",
    "\n",
    "        # number of videos uploaded to the channel\n",
    "        parsed_channel_data['video_count'] = channels_data['items'][index]['statistics']['videoCount'] \n",
    "\n",
    "        # genres based on the wikipedia links that describe the 'categories' of a channel. Had to massage\n",
    "        # a little here because we want to put wikipedia URLs into nicely formatted genre strings.\n",
    "        # Not sure if every channel has these, so threw in a try-except to assign the value to None if necessary.\n",
    "        try:\n",
    "            wiki_links = channels_data['items'][index]['topicDetails']['topicCategories']\n",
    "            parsed_channel_data['genres'] = [link[link.find('wiki/')+5:].replace('_', ' ').title() for link in wiki_links]\n",
    "\n",
    "        except:\n",
    "            parsed_channel_data['genres'] = None\n",
    "        \n",
    "        parsed_channels_data.append(parsed_channel_data)\n",
    "    \n",
    "    return parsed_channels_data"
   ]
  },
  {
   "cell_type": "markdown",
   "metadata": {},
   "source": [
    "# Executing our Functions"
   ]
  },
  {
   "cell_type": "code",
   "execution_count": 23,
   "metadata": {},
   "outputs": [],
   "source": [
    "marco_key = config.marco_key \n",
    "melissa_key = config.melissa_key \n",
    "third_key = config.third_key \n",
    "\n",
    "# Loading the channel names doc\n",
    "df = pd.read_csv('Workbook1.csv',encoding = \"ISO-8859-1\")\n",
    "df['Channels'] = df['Channels'].str.rstrip('æ')\n",
    "channel_names = df.Channels.tolist()"
   ]
  },
  {
   "cell_type": "markdown",
   "metadata": {
    "heading_collapsed": true
   },
   "source": [
    "## YouTube Search - Store results in channel_ids"
   ]
  },
  {
   "cell_type": "code",
   "execution_count": 564,
   "metadata": {
    "hidden": true
   },
   "outputs": [
    {
     "ename": "KeyError",
     "evalue": "'items'",
     "output_type": "error",
     "traceback": [
      "\u001b[0;31m---------------------------------------------------------------------------\u001b[0m",
      "\u001b[0;31mKeyError\u001b[0m                                  Traceback (most recent call last)",
      "\u001b[0;32m<ipython-input-564-453a000a0b0b>\u001b[0m in \u001b[0;36m<module>\u001b[0;34m\u001b[0m\n\u001b[1;32m      3\u001b[0m \u001b[0;32mfor\u001b[0m \u001b[0mchannel_name\u001b[0m \u001b[0;32min\u001b[0m \u001b[0mchannel_names\u001b[0m\u001b[0;34m[\u001b[0m\u001b[0;36m366\u001b[0m\u001b[0;34m:\u001b[0m\u001b[0;34m]\u001b[0m\u001b[0;34m:\u001b[0m\u001b[0;34m\u001b[0m\u001b[0;34m\u001b[0m\u001b[0m\n\u001b[1;32m      4\u001b[0m     \u001b[0msearch_results\u001b[0m \u001b[0;34m=\u001b[0m \u001b[0myoutube_search\u001b[0m\u001b[0;34m(\u001b[0m\u001b[0mmelissa_key\u001b[0m\u001b[0;34m,\u001b[0m \u001b[0mchannel_name\u001b[0m\u001b[0;34m)\u001b[0m\u001b[0;34m\u001b[0m\u001b[0;34m\u001b[0m\u001b[0m\n\u001b[0;32m----> 5\u001b[0;31m     \u001b[0mchannel_id\u001b[0m \u001b[0;34m=\u001b[0m \u001b[0mparse_search_data\u001b[0m\u001b[0;34m(\u001b[0m\u001b[0msearch_results\u001b[0m\u001b[0;34m,\u001b[0m \u001b[0mchannel_name\u001b[0m\u001b[0;34m)\u001b[0m\u001b[0;34m\u001b[0m\u001b[0;34m\u001b[0m\u001b[0m\n\u001b[0m\u001b[1;32m      6\u001b[0m     \u001b[0;32mif\u001b[0m \u001b[0mchannel_id\u001b[0m\u001b[0;34m:\u001b[0m\u001b[0;34m\u001b[0m\u001b[0;34m\u001b[0m\u001b[0m\n\u001b[1;32m      7\u001b[0m         \u001b[0mchannel_ids\u001b[0m\u001b[0;34m.\u001b[0m\u001b[0mappend\u001b[0m\u001b[0;34m(\u001b[0m\u001b[0mchannel_id\u001b[0m\u001b[0;34m)\u001b[0m\u001b[0;34m\u001b[0m\u001b[0;34m\u001b[0m\u001b[0m\n",
      "\u001b[0;32m<ipython-input-559-00ac22558f4e>\u001b[0m in \u001b[0;36mparse_search_data\u001b[0;34m(results, channel_name)\u001b[0m\n\u001b[1;32m     47\u001b[0m     \"\"\"\n\u001b[1;32m     48\u001b[0m \u001b[0;34m\u001b[0m\u001b[0m\n\u001b[0;32m---> 49\u001b[0;31m     \u001b[0;32mfor\u001b[0m \u001b[0mindex\u001b[0m \u001b[0;32min\u001b[0m \u001b[0mrange\u001b[0m\u001b[0;34m(\u001b[0m\u001b[0mlen\u001b[0m\u001b[0;34m(\u001b[0m\u001b[0mresults\u001b[0m\u001b[0;34m[\u001b[0m\u001b[0;34m'items'\u001b[0m\u001b[0;34m]\u001b[0m\u001b[0;34m)\u001b[0m\u001b[0;34m)\u001b[0m\u001b[0;34m:\u001b[0m\u001b[0;34m\u001b[0m\u001b[0;34m\u001b[0m\u001b[0m\n\u001b[0m\u001b[1;32m     50\u001b[0m         \u001b[0;32mif\u001b[0m \u001b[0;34m(\u001b[0m\u001b[0mresults\u001b[0m\u001b[0;34m[\u001b[0m\u001b[0;34m'items'\u001b[0m\u001b[0;34m]\u001b[0m\u001b[0;34m[\u001b[0m\u001b[0mindex\u001b[0m\u001b[0;34m]\u001b[0m\u001b[0;34m[\u001b[0m\u001b[0;34m'id'\u001b[0m\u001b[0;34m]\u001b[0m\u001b[0;34m[\u001b[0m\u001b[0;34m'kind'\u001b[0m\u001b[0;34m]\u001b[0m \u001b[0;34m==\u001b[0m \u001b[0;34m'youtube#channel'\u001b[0m\u001b[0;34m)\u001b[0m \u001b[0;32mand\u001b[0m \u001b[0;34m(\u001b[0m\u001b[0mresults\u001b[0m\u001b[0;34m[\u001b[0m\u001b[0;34m'items'\u001b[0m\u001b[0;34m]\u001b[0m\u001b[0;34m[\u001b[0m\u001b[0mindex\u001b[0m\u001b[0;34m]\u001b[0m\u001b[0;34m[\u001b[0m\u001b[0;34m'snippet'\u001b[0m\u001b[0;34m]\u001b[0m\u001b[0;34m[\u001b[0m\u001b[0;34m'channelTitle'\u001b[0m\u001b[0;34m]\u001b[0m \u001b[0;34m==\u001b[0m \u001b[0mchannel_name\u001b[0m\u001b[0;34m)\u001b[0m\u001b[0;34m:\u001b[0m\u001b[0;34m\u001b[0m\u001b[0;34m\u001b[0m\u001b[0m\n\u001b[1;32m     51\u001b[0m             \u001b[0;32mreturn\u001b[0m \u001b[0mresults\u001b[0m\u001b[0;34m[\u001b[0m\u001b[0;34m'items'\u001b[0m\u001b[0;34m]\u001b[0m\u001b[0;34m[\u001b[0m\u001b[0mindex\u001b[0m\u001b[0;34m]\u001b[0m\u001b[0;34m[\u001b[0m\u001b[0;34m'id'\u001b[0m\u001b[0;34m]\u001b[0m\u001b[0;34m[\u001b[0m\u001b[0;34m'channelId'\u001b[0m\u001b[0;34m]\u001b[0m \u001b[0;31m#, results['items'][index]['snippet']['channelTitle']\u001b[0m\u001b[0;34m\u001b[0m\u001b[0;34m\u001b[0m\u001b[0m\n",
      "\u001b[0;31mKeyError\u001b[0m: 'items'"
     ]
    }
   ],
   "source": [
    "# Loop through list of channel names\n",
    "\n",
    "for channel_name in channel_names[366:]:\n",
    "    search_results = youtube_search(melissa_key, channel_name)\n",
    "    channel_id = parse_search_data(search_results, channel_name)\n",
    "    if channel_id:\n",
    "        channel_ids.append(channel_id)\n",
    "    time.sleep(0.25) # wait 0.25 seconds before making the next call, just in case ... \n",
    "\n",
    "   "
   ]
  },
  {
   "cell_type": "code",
   "execution_count": 569,
   "metadata": {
    "hidden": true
   },
   "outputs": [
    {
     "data": {
      "text/plain": [
       "'UCVnu0ZtcaY9bpJgdxAaqagA'"
      ]
     },
     "execution_count": 569,
     "metadata": {},
     "output_type": "execute_result"
    }
   ],
   "source": [
    "# No. of new ids obtained 11.13 morning\n",
    "channel_ids[453]"
   ]
  },
  {
   "cell_type": "code",
   "execution_count": 566,
   "metadata": {
    "hidden": true
   },
   "outputs": [],
   "source": [
    "new_parsed_channels_data = []"
   ]
  },
  {
   "cell_type": "code",
   "execution_count": 570,
   "metadata": {
    "hidden": true
   },
   "outputs": [],
   "source": [
    "total_len = len(channel_ids)\n",
    "start_index = 279\n",
    "end_index = start_index + 50 #Can only search 50 ids at once"
   ]
  },
  {
   "cell_type": "code",
   "execution_count": 571,
   "metadata": {
    "hidden": true
   },
   "outputs": [],
   "source": [
    "# Automating the process of obtaining and parsing 50 channels' data at once.\n",
    "\n",
    "while start_index < total_len:\n",
    "    if end_index > total_len:\n",
    "        end_index = total_len - 1\n",
    "    channels_data = get_channels_data(third_key, channel_ids[start_index:end_index])\n",
    "    new_parsed_channels_data.extend(parse_channels_data(channels_data))\n",
    "    start_index += 50\n",
    "    end_index += 50"
   ]
  },
  {
   "cell_type": "code",
   "execution_count": 620,
   "metadata": {
    "hidden": true,
    "scrolled": true
   },
   "outputs": [],
   "source": [
    "\n",
    "parsed_channels_data.extend(new_parsed_channels_data)"
   ]
  },
  {
   "cell_type": "markdown",
   "metadata": {
    "heading_collapsed": true
   },
   "source": [
    "# Data Manipulation for csv"
   ]
  },
  {
   "cell_type": "markdown",
   "metadata": {
    "heading_collapsed": true,
    "hidden": true
   },
   "source": [
    "## Cleaning Functions"
   ]
  },
  {
   "cell_type": "code",
   "execution_count": 611,
   "metadata": {
    "hidden": true
   },
   "outputs": [],
   "source": [
    "def dedup(df):\n",
    "    \"\"\"\n",
    "    This function deletes any duplicate rows in our dataframe based on channel id. Use cautiously.\n",
    "    \n",
    "    Param: channel dataframe to deduplicate\n",
    "    \"\"\"\n",
    "    # No. of duplicates (id count - unique id count)\n",
    "    no_dups = df.channel_id.describe()[0] - df.channel_id.describe()[1]\n",
    "    \n",
    "    for loop in range(no_dups):\n",
    "        id_to_del = df.channel_id.describe().top\n",
    "        index_to_del = df[df['channel_id'] == id_to_del].reset_index().iloc[1]['index']\n",
    "        df.drop(index_to_del,inplace=True)"
   ]
  },
  {
   "cell_type": "markdown",
   "metadata": {
    "heading_collapsed": true,
    "hidden": true
   },
   "source": [
    "## Execute cleaning"
   ]
  },
  {
   "cell_type": "code",
   "execution_count": 622,
   "metadata": {
    "hidden": true
   },
   "outputs": [
    {
     "data": {
      "text/plain": [
       "count                          403\n",
       "unique                         403\n",
       "top       UCgc00bfF_PvO_2AvqJZHXFg\n",
       "freq                             1\n",
       "Name: channel_id, dtype: object"
      ]
     },
     "execution_count": 622,
     "metadata": {},
     "output_type": "execute_result"
    }
   ],
   "source": [
    "channels_df = pd.DataFrame(parsed_channels_data)\n",
    "dedup(channels_df)\n",
    "channels_df.channel_id.describe() # Confirm only unique rows"
   ]
  },
  {
   "cell_type": "code",
   "execution_count": 626,
   "metadata": {
    "hidden": true
   },
   "outputs": [
    {
     "data": {
      "text/html": [
       "<div>\n",
       "<style scoped>\n",
       "    .dataframe tbody tr th:only-of-type {\n",
       "        vertical-align: middle;\n",
       "    }\n",
       "\n",
       "    .dataframe tbody tr th {\n",
       "        vertical-align: top;\n",
       "    }\n",
       "\n",
       "    .dataframe thead th {\n",
       "        text-align: right;\n",
       "    }\n",
       "</style>\n",
       "<table border=\"1\" class=\"dataframe\">\n",
       "  <thead>\n",
       "    <tr style=\"text-align: right;\">\n",
       "      <th></th>\n",
       "      <th>channel_id</th>\n",
       "      <th>channel_title</th>\n",
       "      <th>creation_date</th>\n",
       "      <th>country</th>\n",
       "      <th>view_count</th>\n",
       "      <th>comment_count</th>\n",
       "      <th>subscriber_count</th>\n",
       "      <th>video_count</th>\n",
       "      <th>genres</th>\n",
       "    </tr>\n",
       "  </thead>\n",
       "  <tbody>\n",
       "    <tr>\n",
       "      <td>325</td>\n",
       "      <td>UC5nc_ZtjKW1htCVZVRxlQAQ</td>\n",
       "      <td>MrSuicideSheep</td>\n",
       "      <td>2010-04-09T15:30:04.000Z</td>\n",
       "      <td>CA</td>\n",
       "      <td>5170264492</td>\n",
       "      <td>0</td>\n",
       "      <td>0</td>\n",
       "      <td>2438</td>\n",
       "      <td>[Pop Music, Music, Electronic Music, Independe...</td>\n",
       "    </tr>\n",
       "  </tbody>\n",
       "</table>\n",
       "</div>"
      ],
      "text/plain": [
       "                   channel_id   channel_title             creation_date  \\\n",
       "325  UC5nc_ZtjKW1htCVZVRxlQAQ  MrSuicideSheep  2010-04-09T15:30:04.000Z   \n",
       "\n",
       "    country  view_count comment_count subscriber_count video_count  \\\n",
       "325      CA  5170264492             0                0        2438   \n",
       "\n",
       "                                                genres  \n",
       "325  [Pop Music, Music, Electronic Music, Independe...  "
      ]
     },
     "execution_count": 626,
     "metadata": {},
     "output_type": "execute_result"
    }
   ],
   "source": [
    "channels_df[channels_df['subscriber_count'] == '0']"
   ]
  },
  {
   "cell_type": "code",
   "execution_count": 624,
   "metadata": {
    "hidden": true
   },
   "outputs": [],
   "source": [
    "channels_df.drop([12, 33, 41, 229,229,349,399],inplace=True)"
   ]
  },
  {
   "cell_type": "code",
   "execution_count": null,
   "metadata": {
    "hidden": true
   },
   "outputs": [],
   "source": []
  },
  {
   "cell_type": "code",
   "execution_count": 627,
   "metadata": {
    "hidden": true
   },
   "outputs": [],
   "source": [
    "channels_df.to_csv(\"channel_set_final.csv\")"
   ]
  },
  {
   "cell_type": "markdown",
   "metadata": {
    "heading_collapsed": true
   },
   "source": [
    "# Statistical Analysis Exploration"
   ]
  },
  {
   "cell_type": "code",
   "execution_count": 780,
   "metadata": {
    "hidden": true
   },
   "outputs": [],
   "source": [
    "cnx = mysql.connector.connect(\n",
    "    host = config.host,\n",
    "    user = config.user,\n",
    "    passwd = config.password\n",
    ")\n",
    "cursor = cnx.cursor()"
   ]
  },
  {
   "cell_type": "markdown",
   "metadata": {
    "hidden": true
   },
   "source": [
    "$$H_0: \\text{All countries are equally likely to receive a given number of view counts} $$\n",
    "\n",
    "$$H_1: \\text{All countries are not equally likely to receive a given number of view counts}$$\n"
   ]
  },
  {
   "cell_type": "markdown",
   "metadata": {
    "hidden": true
   },
   "source": [
    "## Find out which countries appear the most times in our list"
   ]
  },
  {
   "cell_type": "code",
   "execution_count": 781,
   "metadata": {
    "hidden": true
   },
   "outputs": [],
   "source": [
    "cursor.execute(\"\"\"\n",
    "               SELECT\n",
    "                 country,\n",
    "                 COUNT(country),\n",
    "                 AVG(view_count),\n",
    "                 AVG(subscriber_count),\n",
    "                 AVG(video_count)\n",
    "               FROM\n",
    "                 youtube.channels\n",
    "               GROUP BY\n",
    "                 country\n",
    "               HAVING\n",
    "                 COUNT(country) > 5\n",
    "               ORDER BY\n",
    "                 AVG(view_count) DESC\n",
    "                \"\"\")\n",
    "\n",
    "country_df = pd.DataFrame(cursor.fetchall())\n",
    "country_df.columns = [x[0] for x in cursor.description]"
   ]
  },
  {
   "cell_type": "code",
   "execution_count": 782,
   "metadata": {
    "hidden": true
   },
   "outputs": [],
   "source": [
    "def full_country_name(initials):\n",
    "    \"\"\"\n",
    "    Returns full country name for top 4 countries.\n",
    "    \n",
    "    Param initials: ['str'] Series value in a DF that is the initials of a country.\n",
    "    \"\"\"\n",
    "    if initials == 'IN':\n",
    "        return 'India'\n",
    "    if initials == 'US':\n",
    "        return 'United States'\n",
    "    if initials == 'BR':\n",
    "        return 'Brazil'\n",
    "    if initials == 'Null':\n",
    "        return 'N/A'\n"
   ]
  },
  {
   "cell_type": "code",
   "execution_count": 783,
   "metadata": {
    "hidden": true
   },
   "outputs": [
    {
     "data": {
      "text/html": [
       "<div>\n",
       "<style scoped>\n",
       "    .dataframe tbody tr th:only-of-type {\n",
       "        vertical-align: middle;\n",
       "    }\n",
       "\n",
       "    .dataframe tbody tr th {\n",
       "        vertical-align: top;\n",
       "    }\n",
       "\n",
       "    .dataframe thead th {\n",
       "        text-align: right;\n",
       "    }\n",
       "</style>\n",
       "<table border=\"1\" class=\"dataframe\">\n",
       "  <thead>\n",
       "    <tr style=\"text-align: right;\">\n",
       "      <th></th>\n",
       "      <th>country</th>\n",
       "      <th>COUNT(country)</th>\n",
       "      <th>AVG(view_count)</th>\n",
       "      <th>AVG(subscriber_count)</th>\n",
       "      <th>AVG(video_count)</th>\n",
       "    </tr>\n",
       "  </thead>\n",
       "  <tbody>\n",
       "    <tr>\n",
       "      <td>4</td>\n",
       "      <td>Null</td>\n",
       "      <td>119</td>\n",
       "      <td>5589932740.0336</td>\n",
       "      <td>18400000.0588</td>\n",
       "      <td>3943.6975</td>\n",
       "    </tr>\n",
       "    <tr>\n",
       "      <td>2</td>\n",
       "      <td>US</td>\n",
       "      <td>109</td>\n",
       "      <td>6494191861.2018</td>\n",
       "      <td>18093577.9817</td>\n",
       "      <td>2076.5046</td>\n",
       "    </tr>\n",
       "    <tr>\n",
       "      <td>1</td>\n",
       "      <td>IN</td>\n",
       "      <td>41</td>\n",
       "      <td>9743576450.1951</td>\n",
       "      <td>21560975.6098</td>\n",
       "      <td>15910.2927</td>\n",
       "    </tr>\n",
       "    <tr>\n",
       "      <td>5</td>\n",
       "      <td>BR</td>\n",
       "      <td>30</td>\n",
       "      <td>5018424049.0667</td>\n",
       "      <td>16636666.6667</td>\n",
       "      <td>1654.1000</td>\n",
       "    </tr>\n",
       "  </tbody>\n",
       "</table>\n",
       "</div>"
      ],
      "text/plain": [
       "  country  COUNT(country)  AVG(view_count) AVG(subscriber_count)  \\\n",
       "4    Null             119  5589932740.0336         18400000.0588   \n",
       "2      US             109  6494191861.2018         18093577.9817   \n",
       "1      IN              41  9743576450.1951         21560975.6098   \n",
       "5      BR              30  5018424049.0667         16636666.6667   \n",
       "\n",
       "  AVG(video_count)  \n",
       "4        3943.6975  \n",
       "2        2076.5046  \n",
       "1       15910.2927  \n",
       "5        1654.1000  "
      ]
     },
     "execution_count": 783,
     "metadata": {},
     "output_type": "execute_result"
    }
   ],
   "source": [
    "# Find top four countries - Ones with most number of channels in this list\n",
    "\n",
    "country_df.sort_values(by='COUNT(country)',ascending=False)[0:4]"
   ]
  },
  {
   "cell_type": "markdown",
   "metadata": {
    "hidden": true
   },
   "source": [
    "\n",
    "Now that we know the top countries, we can make a DataFrame that includes just those and clean from there.\n"
   ]
  },
  {
   "cell_type": "code",
   "execution_count": 784,
   "metadata": {
    "code_folding": [],
    "hidden": true
   },
   "outputs": [],
   "source": [
    "cursor.execute(\"\"\"\n",
    "               SELECT\n",
    "                 channel_title,\n",
    "                 country,\n",
    "                 view_count,\n",
    "                 subscriber_count,\n",
    "                 video_count\n",
    "               FROM\n",
    "                 youtube.channels\n",
    "                \"\"\")\n",
    "\n",
    "df = pd.DataFrame(cursor.fetchall())\n",
    "df.columns = [x[0] for x in cursor.description]"
   ]
  },
  {
   "cell_type": "code",
   "execution_count": 785,
   "metadata": {
    "hidden": true
   },
   "outputs": [],
   "source": [
    "top_countries = ['IN','US','BR','Null']"
   ]
  },
  {
   "cell_type": "code",
   "execution_count": 786,
   "metadata": {
    "hidden": true
   },
   "outputs": [],
   "source": [
    "# Top countries df (countries from top 273 YT channels that have >5 channels in the list)\n",
    "tc_df = df.loc[df['country'].isin(top_countries)].sort_values(by='view_count',ascending=False)\n",
    "\n",
    "# Change country names from initials to full names\n",
    "tc_df['country_name'] = tc_df.country.map(lambda x: full_country_name(x))"
   ]
  },
  {
   "cell_type": "code",
   "execution_count": 787,
   "metadata": {
    "hidden": true
   },
   "outputs": [
    {
     "data": {
      "text/html": [
       "<div>\n",
       "<style scoped>\n",
       "    .dataframe tbody tr th:only-of-type {\n",
       "        vertical-align: middle;\n",
       "    }\n",
       "\n",
       "    .dataframe tbody tr th {\n",
       "        vertical-align: top;\n",
       "    }\n",
       "\n",
       "    .dataframe thead th {\n",
       "        text-align: right;\n",
       "    }\n",
       "</style>\n",
       "<table border=\"1\" class=\"dataframe\">\n",
       "  <thead>\n",
       "    <tr style=\"text-align: right;\">\n",
       "      <th></th>\n",
       "      <th>channel_title</th>\n",
       "      <th>country</th>\n",
       "      <th>view_count</th>\n",
       "      <th>subscriber_count</th>\n",
       "      <th>video_count</th>\n",
       "      <th>country_name</th>\n",
       "    </tr>\n",
       "  </thead>\n",
       "  <tbody>\n",
       "    <tr>\n",
       "      <td>280</td>\n",
       "      <td>T-Series</td>\n",
       "      <td>IN</td>\n",
       "      <td>88630702566</td>\n",
       "      <td>118000000</td>\n",
       "      <td>14009</td>\n",
       "      <td>India</td>\n",
       "    </tr>\n",
       "    <tr>\n",
       "      <td>92</td>\n",
       "      <td>Cocomelon - Nursery Rhymes</td>\n",
       "      <td>US</td>\n",
       "      <td>43335002834</td>\n",
       "      <td>65100000</td>\n",
       "      <td>474</td>\n",
       "      <td>United States</td>\n",
       "    </tr>\n",
       "    <tr>\n",
       "      <td>271</td>\n",
       "      <td>SET India</td>\n",
       "      <td>IN</td>\n",
       "      <td>43125038812</td>\n",
       "      <td>59300000</td>\n",
       "      <td>33607</td>\n",
       "      <td>India</td>\n",
       "    </tr>\n",
       "    <tr>\n",
       "      <td>189</td>\n",
       "      <td>WWE</td>\n",
       "      <td>Null</td>\n",
       "      <td>37182753702</td>\n",
       "      <td>50800000</td>\n",
       "      <td>44501</td>\n",
       "      <td>N/A</td>\n",
       "    </tr>\n",
       "    <tr>\n",
       "      <td>169</td>\n",
       "      <td>Ryan's World</td>\n",
       "      <td>US</td>\n",
       "      <td>33702183780</td>\n",
       "      <td>22500000</td>\n",
       "      <td>1563</td>\n",
       "      <td>United States</td>\n",
       "    </tr>\n",
       "  </tbody>\n",
       "</table>\n",
       "</div>"
      ],
      "text/plain": [
       "                  channel_title country   view_count  subscriber_count  \\\n",
       "280                    T-Series      IN  88630702566         118000000   \n",
       "92   Cocomelon - Nursery Rhymes      US  43335002834          65100000   \n",
       "271                   SET India      IN  43125038812          59300000   \n",
       "189                         WWE    Null  37182753702          50800000   \n",
       "169                Ryan's World      US  33702183780          22500000   \n",
       "\n",
       "     video_count   country_name  \n",
       "280        14009          India  \n",
       "92           474  United States  \n",
       "271        33607          India  \n",
       "189        44501            N/A  \n",
       "169         1563  United States  "
      ]
     },
     "execution_count": 787,
     "metadata": {},
     "output_type": "execute_result"
    }
   ],
   "source": [
    "tc_df.head()"
   ]
  },
  {
   "cell_type": "markdown",
   "metadata": {
    "hidden": true
   },
   "source": [
    "## ANOVA"
   ]
  },
  {
   "cell_type": "code",
   "execution_count": 788,
   "metadata": {
    "hidden": true
   },
   "outputs": [],
   "source": [
    "from statsmodels.formula.api import ols\n",
    "import statsmodels.api as sm"
   ]
  },
  {
   "cell_type": "markdown",
   "metadata": {
    "hidden": true
   },
   "source": [
    "### View Count"
   ]
  },
  {
   "cell_type": "code",
   "execution_count": 789,
   "metadata": {
    "hidden": true,
    "scrolled": true
   },
   "outputs": [
    {
     "data": {
      "text/html": [
       "<table class=\"simpletable\">\n",
       "<caption>OLS Regression Results</caption>\n",
       "<tr>\n",
       "  <th>Dep. Variable:</th>       <td>view_count</td>    <th>  R-squared:         </th> <td>   0.031</td> \n",
       "</tr>\n",
       "<tr>\n",
       "  <th>Model:</th>                   <td>OLS</td>       <th>  Adj. R-squared:    </th> <td>   0.021</td> \n",
       "</tr>\n",
       "<tr>\n",
       "  <th>Method:</th>             <td>Least Squares</td>  <th>  F-statistic:       </th> <td>   3.147</td> \n",
       "</tr>\n",
       "<tr>\n",
       "  <th>Date:</th>             <td>Fri, 15 Nov 2019</td> <th>  Prob (F-statistic):</th>  <td>0.0255</td>  \n",
       "</tr>\n",
       "<tr>\n",
       "  <th>Time:</th>                 <td>12:32:31</td>     <th>  Log-Likelihood:    </th> <td> -7237.8</td> \n",
       "</tr>\n",
       "<tr>\n",
       "  <th>No. Observations:</th>      <td>   299</td>      <th>  AIC:               </th> <td>1.448e+04</td>\n",
       "</tr>\n",
       "<tr>\n",
       "  <th>Df Residuals:</th>          <td>   295</td>      <th>  BIC:               </th> <td>1.450e+04</td>\n",
       "</tr>\n",
       "<tr>\n",
       "  <th>Df Model:</th>              <td>     3</td>      <th>                     </th>     <td> </td>    \n",
       "</tr>\n",
       "<tr>\n",
       "  <th>Covariance Type:</th>      <td>nonrobust</td>    <th>                     </th>     <td> </td>    \n",
       "</tr>\n",
       "</table>\n",
       "<table class=\"simpletable\">\n",
       "<tr>\n",
       "                <td></td>                   <th>coef</th>     <th>std err</th>      <th>t</th>      <th>P>|t|</th>  <th>[0.025</th>    <th>0.975]</th>  \n",
       "</tr>\n",
       "<tr>\n",
       "  <th>Intercept</th>                     <td> 5.018e+09</td> <td> 1.45e+09</td> <td>    3.464</td> <td> 0.001</td> <td> 2.17e+09</td> <td> 7.87e+09</td>\n",
       "</tr>\n",
       "<tr>\n",
       "  <th>country_name[T.India]</th>         <td> 4.725e+09</td> <td> 1.91e+09</td> <td>    2.479</td> <td> 0.014</td> <td> 9.73e+08</td> <td> 8.48e+09</td>\n",
       "</tr>\n",
       "<tr>\n",
       "  <th>country_name[T.N/A]</th>           <td> 5.715e+08</td> <td> 1.62e+09</td> <td>    0.353</td> <td> 0.725</td> <td>-2.62e+09</td> <td> 3.76e+09</td>\n",
       "</tr>\n",
       "<tr>\n",
       "  <th>country_name[T.United States]</th> <td> 1.476e+09</td> <td> 1.64e+09</td> <td>    0.902</td> <td> 0.368</td> <td>-1.74e+09</td> <td>  4.7e+09</td>\n",
       "</tr>\n",
       "</table>\n",
       "<table class=\"simpletable\">\n",
       "<tr>\n",
       "  <th>Omnibus:</th>       <td>326.811</td> <th>  Durbin-Watson:     </th> <td>   0.154</td> \n",
       "</tr>\n",
       "<tr>\n",
       "  <th>Prob(Omnibus):</th> <td> 0.000</td>  <th>  Jarque-Bera (JB):  </th> <td>16785.148</td>\n",
       "</tr>\n",
       "<tr>\n",
       "  <th>Skew:</th>          <td> 4.602</td>  <th>  Prob(JB):          </th> <td>    0.00</td> \n",
       "</tr>\n",
       "<tr>\n",
       "  <th>Kurtosis:</th>      <td>38.533</td>  <th>  Cond. No.          </th> <td>    7.56</td> \n",
       "</tr>\n",
       "</table><br/><br/>Warnings:<br/>[1] Standard Errors assume that the covariance matrix of the errors is correctly specified."
      ],
      "text/plain": [
       "<class 'statsmodels.iolib.summary.Summary'>\n",
       "\"\"\"\n",
       "                            OLS Regression Results                            \n",
       "==============================================================================\n",
       "Dep. Variable:             view_count   R-squared:                       0.031\n",
       "Model:                            OLS   Adj. R-squared:                  0.021\n",
       "Method:                 Least Squares   F-statistic:                     3.147\n",
       "Date:                Fri, 15 Nov 2019   Prob (F-statistic):             0.0255\n",
       "Time:                        12:32:31   Log-Likelihood:                -7237.8\n",
       "No. Observations:                 299   AIC:                         1.448e+04\n",
       "Df Residuals:                     295   BIC:                         1.450e+04\n",
       "Df Model:                           3                                         \n",
       "Covariance Type:            nonrobust                                         \n",
       "=================================================================================================\n",
       "                                    coef    std err          t      P>|t|      [0.025      0.975]\n",
       "-------------------------------------------------------------------------------------------------\n",
       "Intercept                      5.018e+09   1.45e+09      3.464      0.001    2.17e+09    7.87e+09\n",
       "country_name[T.India]          4.725e+09   1.91e+09      2.479      0.014    9.73e+08    8.48e+09\n",
       "country_name[T.N/A]            5.715e+08   1.62e+09      0.353      0.725   -2.62e+09    3.76e+09\n",
       "country_name[T.United States]  1.476e+09   1.64e+09      0.902      0.368   -1.74e+09     4.7e+09\n",
       "==============================================================================\n",
       "Omnibus:                      326.811   Durbin-Watson:                   0.154\n",
       "Prob(Omnibus):                  0.000   Jarque-Bera (JB):            16785.148\n",
       "Skew:                           4.602   Prob(JB):                         0.00\n",
       "Kurtosis:                      38.533   Cond. No.                         7.56\n",
       "==============================================================================\n",
       "\n",
       "Warnings:\n",
       "[1] Standard Errors assume that the covariance matrix of the errors is correctly specified.\n",
       "\"\"\""
      ]
     },
     "execution_count": 789,
     "metadata": {},
     "output_type": "execute_result"
    }
   ],
   "source": [
    "anova_view_cnt = ols('view_count~country_name',data=tc_df).fit()\n",
    "anova_view_cnt.summary()"
   ]
  },
  {
   "cell_type": "code",
   "execution_count": 790,
   "metadata": {
    "hidden": true
   },
   "outputs": [
    {
     "data": {
      "text/html": [
       "<div>\n",
       "<style scoped>\n",
       "    .dataframe tbody tr th:only-of-type {\n",
       "        vertical-align: middle;\n",
       "    }\n",
       "\n",
       "    .dataframe tbody tr th {\n",
       "        vertical-align: top;\n",
       "    }\n",
       "\n",
       "    .dataframe thead th {\n",
       "        text-align: right;\n",
       "    }\n",
       "</style>\n",
       "<table border=\"1\" class=\"dataframe\">\n",
       "  <thead>\n",
       "    <tr style=\"text-align: right;\">\n",
       "      <th></th>\n",
       "      <th>df</th>\n",
       "      <th>sum_sq</th>\n",
       "      <th>mean_sq</th>\n",
       "      <th>F</th>\n",
       "      <th>PR(&gt;F)</th>\n",
       "    </tr>\n",
       "  </thead>\n",
       "  <tbody>\n",
       "    <tr>\n",
       "      <td>country_name</td>\n",
       "      <td>3.0</td>\n",
       "      <td>5.943758e+20</td>\n",
       "      <td>1.981253e+20</td>\n",
       "      <td>3.146733</td>\n",
       "      <td>0.025464</td>\n",
       "    </tr>\n",
       "    <tr>\n",
       "      <td>Residual</td>\n",
       "      <td>295.0</td>\n",
       "      <td>1.857385e+22</td>\n",
       "      <td>6.296221e+19</td>\n",
       "      <td>NaN</td>\n",
       "      <td>NaN</td>\n",
       "    </tr>\n",
       "  </tbody>\n",
       "</table>\n",
       "</div>"
      ],
      "text/plain": [
       "                 df        sum_sq       mean_sq         F    PR(>F)\n",
       "country_name    3.0  5.943758e+20  1.981253e+20  3.146733  0.025464\n",
       "Residual      295.0  1.857385e+22  6.296221e+19       NaN       NaN"
      ]
     },
     "execution_count": 790,
     "metadata": {},
     "output_type": "execute_result"
    }
   ],
   "source": [
    "view_cnt_anova_table = sm.stats.anova_lm(anova_view_cnt, type=2)\n",
    "pd.DataFrame(view_cnt_anova_table)"
   ]
  },
  {
   "cell_type": "markdown",
   "metadata": {
    "hidden": true
   },
   "source": [
    "$$P(F) = 0.025$$ \n",
    "\n",
    "$$\\alpha = 0.5$$\n",
    "\n",
    "$$ \\therefore P(F) < \\alpha \\text{ and we reject the null hypothesis regarding view count.}$$"
   ]
  },
  {
   "cell_type": "code",
   "execution_count": 671,
   "metadata": {
    "hidden": true,
    "scrolled": true
   },
   "outputs": [
    {
     "data": {
      "text/html": [
       "<div>\n",
       "<style scoped>\n",
       "    .dataframe tbody tr th:only-of-type {\n",
       "        vertical-align: middle;\n",
       "    }\n",
       "\n",
       "    .dataframe tbody tr th {\n",
       "        vertical-align: top;\n",
       "    }\n",
       "\n",
       "    .dataframe thead th {\n",
       "        text-align: right;\n",
       "    }\n",
       "</style>\n",
       "<table border=\"1\" class=\"dataframe\">\n",
       "  <thead>\n",
       "    <tr style=\"text-align: right;\">\n",
       "      <th></th>\n",
       "      <th>group1</th>\n",
       "      <th>group2</th>\n",
       "      <th>meandiff</th>\n",
       "      <th>p-adj</th>\n",
       "      <th>lower</th>\n",
       "      <th>upper</th>\n",
       "      <th>reject</th>\n",
       "    </tr>\n",
       "  </thead>\n",
       "  <tbody>\n",
       "    <tr>\n",
       "      <td>1</td>\n",
       "      <td>Brazil</td>\n",
       "      <td>India</td>\n",
       "      <td>4725152401.1285</td>\n",
       "      <td>0.0655</td>\n",
       "      <td>-200697155.2362</td>\n",
       "      <td>9651001957.4931</td>\n",
       "      <td>False</td>\n",
       "    </tr>\n",
       "    <tr>\n",
       "      <td>2</td>\n",
       "      <td>Brazil</td>\n",
       "      <td>N/A</td>\n",
       "      <td>571508690.9669</td>\n",
       "      <td>0.9</td>\n",
       "      <td>-3617039833.6681</td>\n",
       "      <td>4760057215.602</td>\n",
       "      <td>False</td>\n",
       "    </tr>\n",
       "    <tr>\n",
       "      <td>3</td>\n",
       "      <td>Brazil</td>\n",
       "      <td>United States</td>\n",
       "      <td>1475767812.1352</td>\n",
       "      <td>0.7792</td>\n",
       "      <td>-2751288649.1251</td>\n",
       "      <td>5702824273.3955</td>\n",
       "      <td>False</td>\n",
       "    </tr>\n",
       "    <tr>\n",
       "      <td>4</td>\n",
       "      <td>India</td>\n",
       "      <td>N/A</td>\n",
       "      <td>-4153643710.1615</td>\n",
       "      <td>0.0214</td>\n",
       "      <td>-7866422780.9027</td>\n",
       "      <td>-440864639.4203</td>\n",
       "      <td>True</td>\n",
       "    </tr>\n",
       "    <tr>\n",
       "      <td>5</td>\n",
       "      <td>India</td>\n",
       "      <td>United States</td>\n",
       "      <td>-3249384588.9933</td>\n",
       "      <td>0.1163</td>\n",
       "      <td>-7005552318.4209</td>\n",
       "      <td>506783140.4343</td>\n",
       "      <td>False</td>\n",
       "    </tr>\n",
       "    <tr>\n",
       "      <td>6</td>\n",
       "      <td>N/A</td>\n",
       "      <td>United States</td>\n",
       "      <td>904259121.1682</td>\n",
       "      <td>0.803</td>\n",
       "      <td>-1813964729.5987</td>\n",
       "      <td>3622482971.9351</td>\n",
       "      <td>False</td>\n",
       "    </tr>\n",
       "  </tbody>\n",
       "</table>\n",
       "</div>"
      ],
      "text/plain": [
       "0  group1         group2          meandiff   p-adj             lower  \\\n",
       "1  Brazil          India   4725152401.1285  0.0655   -200697155.2362   \n",
       "2  Brazil            N/A    571508690.9669     0.9  -3617039833.6681   \n",
       "3  Brazil  United States   1475767812.1352  0.7792  -2751288649.1251   \n",
       "4   India            N/A  -4153643710.1615  0.0214  -7866422780.9027   \n",
       "5   India  United States  -3249384588.9933  0.1163  -7005552318.4209   \n",
       "6     N/A  United States    904259121.1682   0.803  -1813964729.5987   \n",
       "\n",
       "0            upper reject  \n",
       "1  9651001957.4931  False  \n",
       "2   4760057215.602  False  \n",
       "3  5702824273.3955  False  \n",
       "4  -440864639.4203   True  \n",
       "5   506783140.4343  False  \n",
       "6  3622482971.9351  False  "
      ]
     },
     "execution_count": 671,
     "metadata": {},
     "output_type": "execute_result"
    }
   ],
   "source": [
    "from statsmodels.stats.multicomp import (pairwise_tukeyhsd,\n",
    "                                         MultiComparison)\n",
    "\n",
    "# Set up the data for comparison (creates a specialised object)\n",
    "view_cnt_MultiComp = MultiComparison(tc_df['view_count'],\n",
    "                            tc_df['country_name'])\n",
    "\n",
    "# Show all pair-wise comparisons:\n",
    "\n",
    "# Print the comparisons\n",
    "\n",
    "view_cnt_df = pd.DataFrame(view_cnt_MultiComp.tukeyhsd().summary())\n",
    "view_cnt_df.columns = view_cnt_df.iloc[0]\n",
    "view_cnt_df = view_cnt_df.iloc[1:]\n",
    "view_cnt_df"
   ]
  },
  {
   "cell_type": "markdown",
   "metadata": {
    "hidden": true
   },
   "source": [
    "We can only reject the null hypothesis that there exists no statistical difference in view counts between Indian channels and those reporting no country."
   ]
  },
  {
   "cell_type": "markdown",
   "metadata": {
    "heading_collapsed": true,
    "hidden": true
   },
   "source": [
    "### Subscriber count"
   ]
  },
  {
   "cell_type": "code",
   "execution_count": 648,
   "metadata": {
    "hidden": true,
    "scrolled": true
   },
   "outputs": [
    {
     "data": {
      "text/html": [
       "<table class=\"simpletable\">\n",
       "<caption>OLS Regression Results</caption>\n",
       "<tr>\n",
       "  <th>Dep. Variable:</th>    <td>subscriber_count</td> <th>  R-squared:         </th> <td>   0.012</td> \n",
       "</tr>\n",
       "<tr>\n",
       "  <th>Model:</th>                   <td>OLS</td>       <th>  Adj. R-squared:    </th> <td>   0.002</td> \n",
       "</tr>\n",
       "<tr>\n",
       "  <th>Method:</th>             <td>Least Squares</td>  <th>  F-statistic:       </th> <td>   1.241</td> \n",
       "</tr>\n",
       "<tr>\n",
       "  <th>Date:</th>             <td>Fri, 15 Nov 2019</td> <th>  Prob (F-statistic):</th>  <td> 0.295</td>  \n",
       "</tr>\n",
       "<tr>\n",
       "  <th>Time:</th>                 <td>10:05:54</td>     <th>  Log-Likelihood:    </th> <td> -5287.7</td> \n",
       "</tr>\n",
       "<tr>\n",
       "  <th>No. Observations:</th>      <td>   299</td>      <th>  AIC:               </th> <td>1.058e+04</td>\n",
       "</tr>\n",
       "<tr>\n",
       "  <th>Df Residuals:</th>          <td>   295</td>      <th>  BIC:               </th> <td>1.060e+04</td>\n",
       "</tr>\n",
       "<tr>\n",
       "  <th>Df Model:</th>              <td>     3</td>      <th>                     </th>     <td> </td>    \n",
       "</tr>\n",
       "<tr>\n",
       "  <th>Covariance Type:</th>      <td>nonrobust</td>    <th>                     </th>     <td> </td>    \n",
       "</tr>\n",
       "</table>\n",
       "<table class=\"simpletable\">\n",
       "<tr>\n",
       "                <td></td>                   <th>coef</th>     <th>std err</th>      <th>t</th>      <th>P>|t|</th>  <th>[0.025</th>    <th>0.975]</th>  \n",
       "</tr>\n",
       "<tr>\n",
       "  <th>Intercept</th>                     <td> 1.664e+07</td> <td> 2.13e+06</td> <td>    7.809</td> <td> 0.000</td> <td> 1.24e+07</td> <td> 2.08e+07</td>\n",
       "</tr>\n",
       "<tr>\n",
       "  <th>country_name[T.India]</th>         <td> 4.924e+06</td> <td>  2.8e+06</td> <td>    1.756</td> <td> 0.080</td> <td>-5.93e+05</td> <td> 1.04e+07</td>\n",
       "</tr>\n",
       "<tr>\n",
       "  <th>country_name[T.N/A]</th>           <td> 1.763e+06</td> <td> 2.38e+06</td> <td>    0.740</td> <td> 0.460</td> <td>-2.93e+06</td> <td> 6.45e+06</td>\n",
       "</tr>\n",
       "<tr>\n",
       "  <th>country_name[T.United States]</th> <td> 1.457e+06</td> <td> 2.41e+06</td> <td>    0.606</td> <td> 0.545</td> <td>-3.28e+06</td> <td> 6.19e+06</td>\n",
       "</tr>\n",
       "</table>\n",
       "<table class=\"simpletable\">\n",
       "<tr>\n",
       "  <th>Omnibus:</th>       <td>297.045</td> <th>  Durbin-Watson:     </th> <td>   1.077</td>\n",
       "</tr>\n",
       "<tr>\n",
       "  <th>Prob(Omnibus):</th> <td> 0.000</td>  <th>  Jarque-Bera (JB):  </th> <td>8952.263</td>\n",
       "</tr>\n",
       "<tr>\n",
       "  <th>Skew:</th>          <td> 4.157</td>  <th>  Prob(JB):          </th> <td>    0.00</td>\n",
       "</tr>\n",
       "<tr>\n",
       "  <th>Kurtosis:</th>      <td>28.484</td>  <th>  Cond. No.          </th> <td>    7.56</td>\n",
       "</tr>\n",
       "</table><br/><br/>Warnings:<br/>[1] Standard Errors assume that the covariance matrix of the errors is correctly specified."
      ],
      "text/plain": [
       "<class 'statsmodels.iolib.summary.Summary'>\n",
       "\"\"\"\n",
       "                            OLS Regression Results                            \n",
       "==============================================================================\n",
       "Dep. Variable:       subscriber_count   R-squared:                       0.012\n",
       "Model:                            OLS   Adj. R-squared:                  0.002\n",
       "Method:                 Least Squares   F-statistic:                     1.241\n",
       "Date:                Fri, 15 Nov 2019   Prob (F-statistic):              0.295\n",
       "Time:                        10:05:54   Log-Likelihood:                -5287.7\n",
       "No. Observations:                 299   AIC:                         1.058e+04\n",
       "Df Residuals:                     295   BIC:                         1.060e+04\n",
       "Df Model:                           3                                         \n",
       "Covariance Type:            nonrobust                                         \n",
       "=================================================================================================\n",
       "                                    coef    std err          t      P>|t|      [0.025      0.975]\n",
       "-------------------------------------------------------------------------------------------------\n",
       "Intercept                      1.664e+07   2.13e+06      7.809      0.000    1.24e+07    2.08e+07\n",
       "country_name[T.India]          4.924e+06    2.8e+06      1.756      0.080   -5.93e+05    1.04e+07\n",
       "country_name[T.N/A]            1.763e+06   2.38e+06      0.740      0.460   -2.93e+06    6.45e+06\n",
       "country_name[T.United States]  1.457e+06   2.41e+06      0.606      0.545   -3.28e+06    6.19e+06\n",
       "==============================================================================\n",
       "Omnibus:                      297.045   Durbin-Watson:                   1.077\n",
       "Prob(Omnibus):                  0.000   Jarque-Bera (JB):             8952.263\n",
       "Skew:                           4.157   Prob(JB):                         0.00\n",
       "Kurtosis:                      28.484   Cond. No.                         7.56\n",
       "==============================================================================\n",
       "\n",
       "Warnings:\n",
       "[1] Standard Errors assume that the covariance matrix of the errors is correctly specified.\n",
       "\"\"\""
      ]
     },
     "execution_count": 648,
     "metadata": {},
     "output_type": "execute_result"
    }
   ],
   "source": [
    "anova_sub_cnt = ols('subscriber_count~country_name',data=tc_df).fit()\n",
    "anova_sub_cnt.summary()"
   ]
  },
  {
   "cell_type": "code",
   "execution_count": 650,
   "metadata": {
    "hidden": true,
    "scrolled": true
   },
   "outputs": [
    {
     "data": {
      "text/html": [
       "<div>\n",
       "<style scoped>\n",
       "    .dataframe tbody tr th:only-of-type {\n",
       "        vertical-align: middle;\n",
       "    }\n",
       "\n",
       "    .dataframe tbody tr th {\n",
       "        vertical-align: top;\n",
       "    }\n",
       "\n",
       "    .dataframe thead th {\n",
       "        text-align: right;\n",
       "    }\n",
       "</style>\n",
       "<table border=\"1\" class=\"dataframe\">\n",
       "  <thead>\n",
       "    <tr style=\"text-align: right;\">\n",
       "      <th></th>\n",
       "      <th>df</th>\n",
       "      <th>sum_sq</th>\n",
       "      <th>mean_sq</th>\n",
       "      <th>F</th>\n",
       "      <th>PR(&gt;F)</th>\n",
       "    </tr>\n",
       "  </thead>\n",
       "  <tbody>\n",
       "    <tr>\n",
       "      <td>country_name</td>\n",
       "      <td>3.0</td>\n",
       "      <td>5.069067e+14</td>\n",
       "      <td>1.689689e+14</td>\n",
       "      <td>1.240932</td>\n",
       "      <td>0.29504</td>\n",
       "    </tr>\n",
       "    <tr>\n",
       "      <td>Residual</td>\n",
       "      <td>295.0</td>\n",
       "      <td>4.016807e+16</td>\n",
       "      <td>1.361630e+14</td>\n",
       "      <td>NaN</td>\n",
       "      <td>NaN</td>\n",
       "    </tr>\n",
       "  </tbody>\n",
       "</table>\n",
       "</div>"
      ],
      "text/plain": [
       "                 df        sum_sq       mean_sq         F   PR(>F)\n",
       "country_name    3.0  5.069067e+14  1.689689e+14  1.240932  0.29504\n",
       "Residual      295.0  4.016807e+16  1.361630e+14       NaN      NaN"
      ]
     },
     "execution_count": 650,
     "metadata": {},
     "output_type": "execute_result"
    }
   ],
   "source": [
    "sub_cnt_anova_table = sm.stats.anova_lm(anova_sub_cnt, type=2)\n",
    "pd.DataFrame(sub_cnt_anova_table)"
   ]
  },
  {
   "cell_type": "markdown",
   "metadata": {
    "hidden": true
   },
   "source": [
    "$P(F) > \\alpha = 0.5$ therefore we fail to reject the null hypothesis regarding subscriber count."
   ]
  },
  {
   "cell_type": "markdown",
   "metadata": {
    "hidden": true
   },
   "source": [
    "### Video count"
   ]
  },
  {
   "cell_type": "code",
   "execution_count": 791,
   "metadata": {
    "hidden": true
   },
   "outputs": [
    {
     "data": {
      "text/html": [
       "<table class=\"simpletable\">\n",
       "<caption>OLS Regression Results</caption>\n",
       "<tr>\n",
       "  <th>Dep. Variable:</th>       <td>video_count</td>   <th>  R-squared:         </th> <td>   0.067</td>\n",
       "</tr>\n",
       "<tr>\n",
       "  <th>Model:</th>                   <td>OLS</td>       <th>  Adj. R-squared:    </th> <td>   0.058</td>\n",
       "</tr>\n",
       "<tr>\n",
       "  <th>Method:</th>             <td>Least Squares</td>  <th>  F-statistic:       </th> <td>   7.063</td>\n",
       "</tr>\n",
       "<tr>\n",
       "  <th>Date:</th>             <td>Fri, 15 Nov 2019</td> <th>  Prob (F-statistic):</th> <td>0.000134</td>\n",
       "</tr>\n",
       "<tr>\n",
       "  <th>Time:</th>                 <td>12:32:41</td>     <th>  Log-Likelihood:    </th> <td> -3337.8</td>\n",
       "</tr>\n",
       "<tr>\n",
       "  <th>No. Observations:</th>      <td>   299</td>      <th>  AIC:               </th> <td>   6684.</td>\n",
       "</tr>\n",
       "<tr>\n",
       "  <th>Df Residuals:</th>          <td>   295</td>      <th>  BIC:               </th> <td>   6698.</td>\n",
       "</tr>\n",
       "<tr>\n",
       "  <th>Df Model:</th>              <td>     3</td>      <th>                     </th>     <td> </td>   \n",
       "</tr>\n",
       "<tr>\n",
       "  <th>Covariance Type:</th>      <td>nonrobust</td>    <th>                     </th>     <td> </td>   \n",
       "</tr>\n",
       "</table>\n",
       "<table class=\"simpletable\">\n",
       "<tr>\n",
       "                <td></td>                   <th>coef</th>     <th>std err</th>      <th>t</th>      <th>P>|t|</th>  <th>[0.025</th>    <th>0.975]</th>  \n",
       "</tr>\n",
       "<tr>\n",
       "  <th>Intercept</th>                     <td> 1654.1000</td> <td> 3135.440</td> <td>    0.528</td> <td> 0.598</td> <td>-4516.566</td> <td> 7824.766</td>\n",
       "</tr>\n",
       "<tr>\n",
       "  <th>country_name[T.India]</th>         <td> 1.426e+04</td> <td> 4126.062</td> <td>    3.455</td> <td> 0.001</td> <td> 6135.945</td> <td> 2.24e+04</td>\n",
       "</tr>\n",
       "<tr>\n",
       "  <th>country_name[T.N/A]</th>           <td> 2289.5975</td> <td> 3508.473</td> <td>    0.653</td> <td> 0.515</td> <td>-4615.211</td> <td> 9194.406</td>\n",
       "</tr>\n",
       "<tr>\n",
       "  <th>country_name[T.United States]</th> <td>  422.4046</td> <td> 3540.729</td> <td>    0.119</td> <td> 0.905</td> <td>-6545.885</td> <td> 7390.694</td>\n",
       "</tr>\n",
       "</table>\n",
       "<table class=\"simpletable\">\n",
       "<tr>\n",
       "  <th>Omnibus:</th>       <td>393.785</td> <th>  Durbin-Watson:     </th> <td>   2.070</td> \n",
       "</tr>\n",
       "<tr>\n",
       "  <th>Prob(Omnibus):</th> <td> 0.000</td>  <th>  Jarque-Bera (JB):  </th> <td>26153.179</td>\n",
       "</tr>\n",
       "<tr>\n",
       "  <th>Skew:</th>          <td> 6.303</td>  <th>  Prob(JB):          </th> <td>    0.00</td> \n",
       "</tr>\n",
       "<tr>\n",
       "  <th>Kurtosis:</th>      <td>47.049</td>  <th>  Cond. No.          </th> <td>    7.56</td> \n",
       "</tr>\n",
       "</table><br/><br/>Warnings:<br/>[1] Standard Errors assume that the covariance matrix of the errors is correctly specified."
      ],
      "text/plain": [
       "<class 'statsmodels.iolib.summary.Summary'>\n",
       "\"\"\"\n",
       "                            OLS Regression Results                            \n",
       "==============================================================================\n",
       "Dep. Variable:            video_count   R-squared:                       0.067\n",
       "Model:                            OLS   Adj. R-squared:                  0.058\n",
       "Method:                 Least Squares   F-statistic:                     7.063\n",
       "Date:                Fri, 15 Nov 2019   Prob (F-statistic):           0.000134\n",
       "Time:                        12:32:41   Log-Likelihood:                -3337.8\n",
       "No. Observations:                 299   AIC:                             6684.\n",
       "Df Residuals:                     295   BIC:                             6698.\n",
       "Df Model:                           3                                         \n",
       "Covariance Type:            nonrobust                                         \n",
       "=================================================================================================\n",
       "                                    coef    std err          t      P>|t|      [0.025      0.975]\n",
       "-------------------------------------------------------------------------------------------------\n",
       "Intercept                      1654.1000   3135.440      0.528      0.598   -4516.566    7824.766\n",
       "country_name[T.India]          1.426e+04   4126.062      3.455      0.001    6135.945    2.24e+04\n",
       "country_name[T.N/A]            2289.5975   3508.473      0.653      0.515   -4615.211    9194.406\n",
       "country_name[T.United States]   422.4046   3540.729      0.119      0.905   -6545.885    7390.694\n",
       "==============================================================================\n",
       "Omnibus:                      393.785   Durbin-Watson:                   2.070\n",
       "Prob(Omnibus):                  0.000   Jarque-Bera (JB):            26153.179\n",
       "Skew:                           6.303   Prob(JB):                         0.00\n",
       "Kurtosis:                      47.049   Cond. No.                         7.56\n",
       "==============================================================================\n",
       "\n",
       "Warnings:\n",
       "[1] Standard Errors assume that the covariance matrix of the errors is correctly specified.\n",
       "\"\"\""
      ]
     },
     "execution_count": 791,
     "metadata": {},
     "output_type": "execute_result"
    }
   ],
   "source": [
    "video_cnt_anova = ols('video_count~country_name',data=tc_df).fit()\n",
    "video_cnt_anova.summary()"
   ]
  },
  {
   "cell_type": "code",
   "execution_count": 792,
   "metadata": {
    "hidden": true,
    "scrolled": true
   },
   "outputs": [
    {
     "data": {
      "text/html": [
       "<div>\n",
       "<style scoped>\n",
       "    .dataframe tbody tr th:only-of-type {\n",
       "        vertical-align: middle;\n",
       "    }\n",
       "\n",
       "    .dataframe tbody tr th {\n",
       "        vertical-align: top;\n",
       "    }\n",
       "\n",
       "    .dataframe thead th {\n",
       "        text-align: right;\n",
       "    }\n",
       "</style>\n",
       "<table border=\"1\" class=\"dataframe\">\n",
       "  <thead>\n",
       "    <tr style=\"text-align: right;\">\n",
       "      <th></th>\n",
       "      <th>df</th>\n",
       "      <th>sum_sq</th>\n",
       "      <th>mean_sq</th>\n",
       "      <th>F</th>\n",
       "      <th>PR(&gt;F)</th>\n",
       "    </tr>\n",
       "  </thead>\n",
       "  <tbody>\n",
       "    <tr>\n",
       "      <td>country_name</td>\n",
       "      <td>3.0</td>\n",
       "      <td>6.248908e+09</td>\n",
       "      <td>2.082969e+09</td>\n",
       "      <td>7.0626</td>\n",
       "      <td>0.000134</td>\n",
       "    </tr>\n",
       "    <tr>\n",
       "      <td>Residual</td>\n",
       "      <td>295.0</td>\n",
       "      <td>8.700421e+10</td>\n",
       "      <td>2.949295e+08</td>\n",
       "      <td>NaN</td>\n",
       "      <td>NaN</td>\n",
       "    </tr>\n",
       "  </tbody>\n",
       "</table>\n",
       "</div>"
      ],
      "text/plain": [
       "                 df        sum_sq       mean_sq       F    PR(>F)\n",
       "country_name    3.0  6.248908e+09  2.082969e+09  7.0626  0.000134\n",
       "Residual      295.0  8.700421e+10  2.949295e+08     NaN       NaN"
      ]
     },
     "execution_count": 792,
     "metadata": {},
     "output_type": "execute_result"
    }
   ],
   "source": [
    "vid_cnt_anova_table = sm.stats.anova_lm(video_cnt_anova, type=2)\n",
    "pd.DataFrame(vid_cnt_anova_table)"
   ]
  },
  {
   "cell_type": "markdown",
   "metadata": {
    "hidden": true
   },
   "source": [
    "$$P(F) = 0.00013$$ \n",
    "\n",
    "$$\\alpha = 0.5$$\n",
    "\n",
    "$$ \\therefore P(F) < \\alpha \\text{ and we reject the null hypothesis regarding video count.}$$"
   ]
  },
  {
   "cell_type": "code",
   "execution_count": 793,
   "metadata": {
    "hidden": true,
    "scrolled": false
   },
   "outputs": [
    {
     "data": {
      "text/html": [
       "<div>\n",
       "<style scoped>\n",
       "    .dataframe tbody tr th:only-of-type {\n",
       "        vertical-align: middle;\n",
       "    }\n",
       "\n",
       "    .dataframe tbody tr th {\n",
       "        vertical-align: top;\n",
       "    }\n",
       "\n",
       "    .dataframe thead th {\n",
       "        text-align: right;\n",
       "    }\n",
       "</style>\n",
       "<table border=\"1\" class=\"dataframe\">\n",
       "  <thead>\n",
       "    <tr style=\"text-align: right;\">\n",
       "      <th></th>\n",
       "      <th>group1</th>\n",
       "      <th>group2</th>\n",
       "      <th>meandiff</th>\n",
       "      <th>p-adj</th>\n",
       "      <th>lower</th>\n",
       "      <th>upper</th>\n",
       "      <th>reject</th>\n",
       "    </tr>\n",
       "  </thead>\n",
       "  <tbody>\n",
       "    <tr>\n",
       "      <td>1</td>\n",
       "      <td>Brazil</td>\n",
       "      <td>India</td>\n",
       "      <td>14256.1927</td>\n",
       "      <td>0.0035</td>\n",
       "      <td>3595.1352</td>\n",
       "      <td>24917.2502</td>\n",
       "      <td>True</td>\n",
       "    </tr>\n",
       "    <tr>\n",
       "      <td>2</td>\n",
       "      <td>Brazil</td>\n",
       "      <td>N/A</td>\n",
       "      <td>2289.5975</td>\n",
       "      <td>0.9</td>\n",
       "      <td>-6775.7132</td>\n",
       "      <td>11354.9082</td>\n",
       "      <td>False</td>\n",
       "    </tr>\n",
       "    <tr>\n",
       "      <td>3</td>\n",
       "      <td>Brazil</td>\n",
       "      <td>United States</td>\n",
       "      <td>422.4046</td>\n",
       "      <td>0.9</td>\n",
       "      <td>-8726.2491</td>\n",
       "      <td>9571.0583</td>\n",
       "      <td>False</td>\n",
       "    </tr>\n",
       "    <tr>\n",
       "      <td>4</td>\n",
       "      <td>India</td>\n",
       "      <td>N/A</td>\n",
       "      <td>-11966.5952</td>\n",
       "      <td>0.001</td>\n",
       "      <td>-20002.1941</td>\n",
       "      <td>-3930.9963</td>\n",
       "      <td>True</td>\n",
       "    </tr>\n",
       "    <tr>\n",
       "      <td>5</td>\n",
       "      <td>India</td>\n",
       "      <td>United States</td>\n",
       "      <td>-13833.7881</td>\n",
       "      <td>0.001</td>\n",
       "      <td>-21963.2934</td>\n",
       "      <td>-5704.2828</td>\n",
       "      <td>True</td>\n",
       "    </tr>\n",
       "    <tr>\n",
       "      <td>6</td>\n",
       "      <td>N/A</td>\n",
       "      <td>United States</td>\n",
       "      <td>-1867.1929</td>\n",
       "      <td>0.8251</td>\n",
       "      <td>-7750.2676</td>\n",
       "      <td>4015.8818</td>\n",
       "      <td>False</td>\n",
       "    </tr>\n",
       "  </tbody>\n",
       "</table>\n",
       "</div>"
      ],
      "text/plain": [
       "0  group1         group2     meandiff   p-adj        lower       upper reject\n",
       "1  Brazil          India   14256.1927  0.0035    3595.1352  24917.2502   True\n",
       "2  Brazil            N/A    2289.5975     0.9   -6775.7132  11354.9082  False\n",
       "3  Brazil  United States     422.4046     0.9   -8726.2491   9571.0583  False\n",
       "4   India            N/A  -11966.5952   0.001  -20002.1941  -3930.9963   True\n",
       "5   India  United States  -13833.7881   0.001  -21963.2934  -5704.2828   True\n",
       "6     N/A  United States   -1867.1929  0.8251   -7750.2676   4015.8818  False"
      ]
     },
     "execution_count": 793,
     "metadata": {},
     "output_type": "execute_result"
    }
   ],
   "source": [
    "# Set up the data for comparison (creates a specialised object)\n",
    "vid_cnt_MultiComp = MultiComparison(tc_df['video_count'],\n",
    "                            tc_df['country_name'])\n",
    "\n",
    "# Show all pair-wise comparisons:\n",
    "\n",
    "# Print the comparisons\n",
    "\n",
    "vid_cnt_df = pd.DataFrame(vid_cnt_MultiComp.tukeyhsd().summary())\n",
    "vid_cnt_df.columns = vid_cnt_df.iloc[0]\n",
    "vid_cnt_df = vid_cnt_df.iloc[1:]\n",
    "vid_cnt_df"
   ]
  },
  {
   "cell_type": "markdown",
   "metadata": {
    "hidden": true
   },
   "source": [
    "We can thus reject the null hypothesis that there exists no statistical difference in video counts between Brazilian & Indian channels, Indian and N/A channels, and Indian and US channels."
   ]
  },
  {
   "cell_type": "markdown",
   "metadata": {
    "heading_collapsed": true
   },
   "source": [
    "# Data Visualization"
   ]
  },
  {
   "cell_type": "code",
   "execution_count": 759,
   "metadata": {
    "hidden": true
   },
   "outputs": [],
   "source": [
    "import matplotlib.pyplot as plt\n",
    "import seaborn as sns\n",
    "sns.set(style='white',palette='vlag')\n",
    "%matplotlib inline"
   ]
  },
  {
   "cell_type": "code",
   "execution_count": 733,
   "metadata": {
    "hidden": true
   },
   "outputs": [],
   "source": [
    "# Create a df for only top 4 countries and average column values so \n",
    "# that we can visualize this data and make some sense of the Tukey's test\n",
    "\n",
    "vis_df = country_df.sort_values(by='COUNT(country)',ascending=False)[:4]\n",
    "\n",
    "# Add country names column based on initials to have full names for visualization\n",
    "\n",
    "vis_df['country_name'] = vis_df.country.map(lambda x: full_country_name(x))\n",
    "\n",
    "# Make sure aggregate columns are ints (only figured this out because it wouldn't let me plot \"nonnumerical data\")\n",
    "\n",
    "vis_df['AVG(view_count)'] = vis_df['AVG(view_count)'].apply(lambda x: int(x))\n",
    "vis_df['AVG(subscriber_count)'] = vis_df['AVG(subscriber_count)'].apply(lambda x: int(x))\n",
    "vis_df['AVG(video_count)'] = vis_df['AVG(video_count)'].apply(lambda x: int(x))"
   ]
  },
  {
   "cell_type": "code",
   "execution_count": 794,
   "metadata": {
    "hidden": true
   },
   "outputs": [
    {
     "data": {
      "image/png": "[encoded data removed]",
      "text/plain": [
       "<Figure size 1440x1008 with 4 Axes>"
      ]
     },
     "metadata": {
      "needs_background": "light"
     },
     "output_type": "display_data"
    }
   ],
   "source": [
    "grid = (2,2) # Make a 2x2 axis grid to plot four plots in the same figure\n",
    "fig = plt.figure(figsize=(20,14))\n",
    "ax1 = plt.subplot2grid(grid, (0,0)) # First ax in position (0,0) (top left)\n",
    "ax2 = plt.subplot2grid(grid, (0,1)) # Second ax in position (0,1) (top right)\n",
    "ax3 = plt.subplot2grid(grid, (1,0)) # Third ax in position (1,0) (bottom left)\n",
    "ax4 = plt.subplot2grid(grid, (1,1)) # Fourth ax in position (1,1) (bottom right)\n",
    "\n",
    "sns.barplot(x=vis_df['country_name'],\n",
    "            y=vis_df['COUNT(country)'],\n",
    "            ax=ax1);\n",
    "\n",
    "ax1.set_title('Number of Top YouTube Channels by Country');\n",
    "ax1.set_xlabel('Country'), ax1.set_ylabel('Number of Channels');\n",
    "\n",
    "sns.barplot(x=vis_df['country_name'],\n",
    "            y=vis_df['AVG(view_count)'],\n",
    "            ax=ax2)\n",
    "\n",
    "ax2.set_title('Average View Count by Country');\n",
    "ax2.set_xlabel('Country'), ax2.set_ylabel('Average View Count');\n",
    "\n",
    "sns.barplot(x=vis_df['country_name'],\n",
    "            y=vis_df['AVG(subscriber_count)'],\n",
    "            ax=ax3);\n",
    "\n",
    "ax3.set_title('Average Subscriber Count by Country');\n",
    "ax3.set_xlabel('Country'), ax3.set_ylabel('Average Subscriber Count');\n",
    "\n",
    "\n",
    "\n",
    "sns.barplot(x=vis_df['country_name'],\n",
    "            y=vis_df['AVG(video_count)'],\n",
    "            ax=ax4);\n",
    "\n",
    "ax4.set_title('Average Video Count by Country');\n",
    "ax4.set_xlabel('Country'), ax4.set_ylabel('Average Video Count');"
   ]
  },
  {
   "cell_type": "code",
   "execution_count": 765,
   "metadata": {
    "hidden": true
   },
   "outputs": [
    {
     "data": {
      "text/plain": [
       "<matplotlib.axes._subplots.AxesSubplot at 0x1c2be92610>"
      ]
     },
     "execution_count": 765,
     "metadata": {},
     "output_type": "execute_result"
    },
    {
     "data": {
      "image/png": "[encoded data removed]",
      "text/plain": [
       "<Figure size 432x288 with 1 Axes>"
      ]
     },
     "metadata": {
      "needs_background": "light"
     },
     "output_type": "display_data"
    }
   ],
   "source": [
    "sns.barplot(x=vis_df['country_name'],\n",
    "            y=vis_df['COUNT(country)'])"
   ]
  },
  {
   "cell_type": "code",
   "execution_count": null,
   "metadata": {
    "hidden": true
   },
   "outputs": [],
   "source": []
  },
  {
   "cell_type": "code",
   "execution_count": 419,
   "metadata": {
    "hidden": true
   },
   "outputs": [],
   "source": [
    "in_df = tc_df[tc_df['country'] == 'IN']\n",
    "us_df = tc_df[tc_df['country'] == 'US']\n",
    "br_df = tc_df[tc_df['country'] == 'BR']\n",
    "null_df = tc_df[tc_df['country'] == 'Null']"
   ]
  },
  {
   "cell_type": "code",
   "execution_count": 680,
   "metadata": {
    "hidden": true
   },
   "outputs": [],
   "source": []
  },
  {
   "cell_type": "code",
   "execution_count": 555,
   "metadata": {
    "hidden": true
   },
   "outputs": [
    {
     "data": {
      "image/png": "[encoded data removed]",
      "text/plain": [
       "<Figure size 720x576 with 1 Axes>"
      ]
     },
     "metadata": {
      "needs_background": "light"
     },
     "output_type": "display_data"
    }
   ],
   "source": [
    "# India View Counts\n",
    "\n",
    "fig = plt.figure(figsize=(10,8))\n",
    "ax1 = plt.subplot()\n",
    "\n",
    "in_df.sort_values(by='view_count')[:10].plot.barh(x='channel_title',y='view_count',ax=ax1, legend=False)\n",
    "# in_df.sort_values(by='view_count',ascending=False)[:10].plot.barh(x='channel_title',y='video_count',ax=ax1, legend=False,color='b',alpha=0.7)\n",
    "ax1.set_title('Indian YouTube Channels with Top View Counts')\n",
    "ax1.set_xlabel('Channel Name'), ax1.set_ylabel('View Count');"
   ]
  },
  {
   "cell_type": "code",
   "execution_count": 556,
   "metadata": {
    "hidden": true
   },
   "outputs": [
    {
     "data": {
      "image/png": "[encoded data removed]",
      "text/plain": [
       "<Figure size 720x576 with 1 Axes>"
      ]
     },
     "metadata": {
      "needs_background": "light"
     },
     "output_type": "display_data"
    }
   ],
   "source": [
    "# US View Counts\n",
    "\n",
    "fig = plt.figure(figsize=(10,8))\n",
    "ax1 = plt.subplot()\n",
    "\n",
    "us_df.sort_values(by='view_count')[:10].plot.barh(x='channel_title',y='view_count',ax=ax1, legend=False)\n",
    "ax1.set_title('United States YouTube Channels with Top View Counts')\n",
    "ax1.set_xlabel('Channel Name'), ax1.set_ylabel('View Count');"
   ]
  },
  {
   "cell_type": "code",
   "execution_count": 557,
   "metadata": {
    "hidden": true
   },
   "outputs": [
    {
     "data": {
      "image/png": "[encoded data removed]",
      "text/plain": [
       "<Figure size 720x576 with 1 Axes>"
      ]
     },
     "metadata": {
      "needs_background": "light"
     },
     "output_type": "display_data"
    }
   ],
   "source": [
    "# Brazil View Counts\n",
    "\n",
    "fig = plt.figure(figsize=(10,8))\n",
    "ax1 = plt.subplot()\n",
    "\n",
    "br_df.sort_values(by='view_count')[:10].plot.barh(x='channel_title',y='view_count',ax=ax1, legend=False)\n",
    "ax1.set_title('Brazil YouTube Channels with Top View Counts')\n",
    "ax1.set_xlabel('Channel Name'), ax1.set_ylabel('View Count');"
   ]
  },
  {
   "cell_type": "code",
   "execution_count": 558,
   "metadata": {
    "hidden": true
   },
   "outputs": [
    {
     "data": {
      "image/png": "[encoded data removed]",
      "text/plain": [
       "<Figure size 720x576 with 1 Axes>"
      ]
     },
     "metadata": {
      "needs_background": "light"
     },
     "output_type": "display_data"
    }
   ],
   "source": [
    "# Null View Counts\n",
    "\n",
    "fig = plt.figure(figsize=(10,8))\n",
    "ax1 = plt.subplot()\n",
    "\n",
    "null_df.sort_values(by='view_count').iloc[:10].plot.barh(x='channel_title',y='view_count',ax=ax1, legend=False)\n",
    "ax1.set_title('Null Country YouTube Channels with Top View Counts')\n",
    "ax1.set_xlabel('Channel Name'), ax1.set_ylabel('View Count');"
   ]
  }
 ],
 "metadata": {
  "kernelspec": {
   "display_name": "Python 3",
   "language": "python",
   "name": "python3"
  },
  "language_info": {
   "codemirror_mode": {
    "name": "ipython",
    "version": 3
   },
   "file_extension": ".py",
   "mimetype": "text/x-python",
   "name": "python",
   "nbconvert_exporter": "python",
   "pygments_lexer": "ipython3",
   "version": "3.7.4"
  },
  "toc": {
   "base_numbering": 1,
   "nav_menu": {
    "height": "252px",
    "width": "313px"
   },
   "number_sections": true,
   "sideBar": true,
   "skip_h1_title": false,
   "title_cell": "Table of Contents",
   "title_sidebar": "Contents",
   "toc_cell": true,
   "toc_position": {},
   "toc_section_display": true,
   "toc_window_display": false
  },
  "varInspector": {
   "cols": {
    "lenName": 16,
    "lenType": 16,
    "lenVar": 40
   },
   "kernels_config": {
    "python": {
     "delete_cmd_postfix": "",
     "delete_cmd_prefix": "del ",
     "library": "var_list.py",
     "varRefreshCmd": "print(var_dic_list())"
    },
    "r": {
     "delete_cmd_postfix": ") ",
     "delete_cmd_prefix": "rm(",
     "library": "var_list.r",
     "varRefreshCmd": "cat(var_dic_list()) "
    }
   },
   "oldHeight": 500.774480342865,
   "position": {
    "height": "40px",
    "left": "1015.9186401367188px",
    "right": "20px",
    "top": "-3.0652174949645996px",
    "width": "631.7799072265625px"
   },
   "types_to_exclude": [
    "module",
    "function",
    "builtin_function_or_method",
    "instance",
    "_Feature"
   ],
   "varInspector_section_display": "none",
   "window_display": true
  }
 },
 "nbformat": 4,
 "nbformat_minor": 2
}
