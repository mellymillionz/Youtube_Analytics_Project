{
 "cells": [
  {
   "cell_type": "code",
   "execution_count": 5,
   "metadata": {},
   "outputs": [],
   "source": [
    "import requests\n",
    "from bs4 import BeautifulSoup as BS\n",
    "import requests\n",
    "import json\n",
    "import mysql.connector\n",
    "import pandas as pd\n",
    "import config\n",
    "import seaborn as sns\n",
    "\n",
    "db = mysql.connector.connect(\n",
    "    host = config.host,\n",
    "    user = config.user,\n",
    "    password = config.password,\n",
    "    database = \"youtube\")\n",
    "\n",
    "cursor = db.cursor()"
   ]
  },
  {
   "cell_type": "markdown",
   "metadata": {},
   "source": [
    "# Database and Table Creation"
   ]
  },
  {
   "cell_type": "code",
   "execution_count": 274,
   "metadata": {},
   "outputs": [
    {
     "name": "stdout",
     "output_type": "stream",
     "text": [
      "Failed creating database: 1007 (HY000): Can't create database 'youtube'; database exists\n"
     ]
    }
   ],
   "source": [
    "#create database\n",
    "from mysql.connector import errorcode\n",
    "db_name = 'youtube'\n",
    "\n",
    "def create_database(cursor, database):\n",
    "    try:\n",
    "        cursor.execute(\n",
    "            \"CREATE DATABASE {} DEFAULT CHARACTER SET 'utf8'\".format(database))\n",
    "    except mysql.connector.Error as err:\n",
    "        print(\"Failed creating database: {}\".format(err))\n",
    "        exit(1)\n",
    "\n",
    "try:\n",
    "    cursor.execute(\"USE {}\".format(db_name))\n",
    "except mysql.connector.Error as err:\n",
    "    print(\"Database {} does not exists.\".format(db_name))\n",
    "    if err.errno == errorcode.ER_BAD_DB_ERROR:\n",
    "        create_database(cursor, db_name)\n",
    "        print(\"Database {} created successfully.\".format(db_name))\n",
    "        cnx.database = db_name\n",
    "    else:\n",
    "        print(err)\n",
    "        exit(1)\n",
    "        \n",
    "# create_database(cursor, db_name)"
   ]
  },
  {
   "cell_type": "code",
   "execution_count": 17,
   "metadata": {},
   "outputs": [],
   "source": [
    "#Create table for channel data only\n",
    "\n",
    "db_name = 'youtube'\n",
    "\n",
    "create_query = \"\"\"\n",
    "CREATE TABLE channels (\n",
    "    channel_id varchar(40) NOT NULL, \n",
    "    channel_title varchar(60) NOT NULL UNIQUE, \n",
    "    creation_date datetime, \n",
    "    country varchar(20), \n",
    "    view_count bigint NOT NULL,\n",
    "    comment_count int,\n",
    "    subscriber_count int NOT NULL,\n",
    "    video_count int NOT NULL,\n",
    "    CONSTRAINT primary_key PRIMARY KEY(channel_id)\n",
    "    );\n",
    "\n",
    "\"\"\"\n",
    "# cursor.execute(create_query)\n"
   ]
  },
  {
   "cell_type": "code",
   "execution_count": 88,
   "metadata": {},
   "outputs": [],
   "source": [
    "#create table for the genre and channel ids\n",
    "create_query = \"\"\"\n",
    "      CREATE TABLE genres\n",
    "    (\n",
    "      genre_name varchar(50),\n",
    "      channel_id varchar(40) NOT NULL, \n",
    "      FOREIGN KEY (channel_id) REFERENCES channels(channel_id)  \n",
    "      )\n",
    "    \"\"\"\n",
    "# cursor.execute(create_query)"
   ]
  },
  {
   "cell_type": "markdown",
   "metadata": {},
   "source": [
    "# Import CSV of Youtube Channel Names"
   ]
  },
  {
   "cell_type": "markdown",
   "metadata": {},
   "source": [
    "#Clean and Import Top Channel Names:"
   ]
  },
  {
   "cell_type": "code",
   "execution_count": 6,
   "metadata": {},
   "outputs": [],
   "source": [
    "#Import top 500 channel names csv \n",
    "all_titles = pd.read_csv('Workbook1.csv', encoding = \"ISO-8859-1\")\n",
    "column_names = ['channel']\n",
    "all_titles.columns = [x for x in column_names]\n",
    "all_titles['channel'] = all_titles['channel'].str.rstrip('æ')\n"
   ]
  },
  {
   "cell_type": "code",
   "execution_count": 7,
   "metadata": {},
   "outputs": [],
   "source": [
    "#Import and final clean API output csv\n",
    "first_channels = pd.read_csv(\"channel_set_final.csv\")\n",
    "channels_df = first_channels.drop(columns = 'genres')\n",
    "channels_df2 = channels_df.fillna(value='Null')\n",
    "first_channels_dict = channels_df2.to_dict(orient='records')\n"
   ]
  },
  {
   "cell_type": "markdown",
   "metadata": {},
   "source": [
    "# INSERT to MySQL"
   ]
  },
  {
   "cell_type": "code",
   "execution_count": 92,
   "metadata": {},
   "outputs": [],
   "source": [
    "#Insert function for all channel data\n",
    "\n",
    "def insert_channel(parsed_channels_data):\n",
    "    \"\"\"\n",
    "    Inserts parsed_channel_data into the channels table in the youtube MySQL database.\n",
    "    \"\"\"\n",
    "    \n",
    "    channel_tuples = [(parsed_channel_data['channel_id'],\n",
    "                     parsed_channel_data['channel_title'],\n",
    "                     parsed_channel_data['creation_date'],\n",
    "                     parsed_channel_data['country'],\n",
    "                     parsed_channel_data['view_count'],\n",
    "                     parsed_channel_data['comment_count'],\n",
    "                     parsed_channel_data['subscriber_count'],\n",
    "                     parsed_channel_data['video_count']) for parsed_channel_data in parsed_channels_data]\n",
    "#     for single_tuple in channel_tuples:    \n",
    "#         print(single_tuple[4])\n",
    "    insert_statement = \"\"\"\n",
    "        INSERT INTO channels \n",
    "            (channel_id, \n",
    "            channel_title, \n",
    "            creation_date, \n",
    "            country, \n",
    "            view_count,\n",
    "            comment_count,\n",
    "            subscriber_count,\n",
    "            video_count\n",
    "            )\n",
    "            \n",
    "        VALUES\n",
    "            (%s, %s, %s, %s, %s, %s, %s, %s);\"\"\"\n",
    "    \n",
    "        \n",
    "    cursor.executemany(insert_statement,channel_tuples)\n",
    "    db.commit()\n",
    "    \n",
    "insert_channel(first_channels_dict)\n",
    "\n",
    "# cursor.close()\n",
    "# db.close()"
   ]
  },
  {
   "cell_type": "code",
   "execution_count": 94,
   "metadata": {
    "collapsed": true
   },
   "outputs": [
    {
     "data": {
      "text/plain": [
       "1171"
      ]
     },
     "execution_count": 94,
     "metadata": {},
     "output_type": "execute_result"
    }
   ],
   "source": [
    "#Find unique genres\n",
    "#find genre_channels tuple with channel id \n",
    "\n",
    "genres_only = first_channels[['channel_id','genres']]\n",
    "\n",
    "def separate_genres(genres_only):\n",
    "    genres_list = []\n",
    "    genre_channel_tuples = []\n",
    "    for index, genres in genres_only['genres'].items():\n",
    "        cleaned_genres = genres.replace(\"[\", \"\").replace(\"]\", \"\").replace(\"'\", \"\")\n",
    "        splt_genres = cleaned_genres.split(\", \")\n",
    "        \n",
    "        for item in splt_genres:\n",
    "            genres_list.append(item)\n",
    "            tuple_ = genres_only['channel_id'][index], item\n",
    "            genre_channel_tuples.append(tuple_)\n",
    "    \n",
    "    return (set(genres_list)), genre_channel_tuples\n",
    "\n",
    "unique_genres, genre_channels_tuples = separate_genres(genres_only)\n"
   ]
  },
  {
   "cell_type": "code",
   "execution_count": 41,
   "metadata": {},
   "outputs": [],
   "source": [
    "#Dictionary and df of genres only\n",
    "genres_dict = genres_only.to_dict(orient='records')\n",
    "unique_genres_df = pd.DataFrame(unique_genres,columns=['genre'])"
   ]
  },
  {
   "cell_type": "code",
   "execution_count": 95,
   "metadata": {},
   "outputs": [],
   "source": [
    "#insert genres and channel ids into mysql using the genre tuples\n",
    "\n",
    "def insert_genre(genre_data):\n",
    "\n",
    "    insert_statement = \"\"\"\n",
    "        INSERT INTO genres\n",
    "            (channel_id,\n",
    "            genre_name \n",
    "            )\n",
    "            \n",
    "        VALUES\n",
    "            (%s, %s);\"\"\"\n",
    "        \n",
    "    cursor.executemany(insert_statement, genre_data)\n",
    "    db.commit()\n",
    "    \n",
    "insert_genre(genre_channels_tuples)\n",
    "\n"
   ]
  },
  {
   "cell_type": "code",
   "execution_count": 19,
   "metadata": {},
   "outputs": [],
   "source": [
    "# cursor.close()\n",
    "# db.close()"
   ]
  },
  {
   "cell_type": "markdown",
   "metadata": {},
   "source": [
    "\n",
    "# Query from MySQL"
   ]
  },
  {
   "cell_type": "code",
   "execution_count": 51,
   "metadata": {},
   "outputs": [
    {
     "data": {
      "text/html": [
       "<div>\n",
       "<style scoped>\n",
       "    .dataframe tbody tr th:only-of-type {\n",
       "        vertical-align: middle;\n",
       "    }\n",
       "\n",
       "    .dataframe tbody tr th {\n",
       "        vertical-align: top;\n",
       "    }\n",
       "\n",
       "    .dataframe thead th {\n",
       "        text-align: right;\n",
       "    }\n",
       "</style>\n",
       "<table border=\"1\" class=\"dataframe\">\n",
       "  <thead>\n",
       "    <tr style=\"text-align: right;\">\n",
       "      <th></th>\n",
       "      <th>channel_id</th>\n",
       "      <th>channel_title</th>\n",
       "      <th>creation_date</th>\n",
       "      <th>country</th>\n",
       "      <th>view_count</th>\n",
       "      <th>comment_count</th>\n",
       "      <th>subscriber_count</th>\n",
       "      <th>video_count</th>\n",
       "    </tr>\n",
       "  </thead>\n",
       "  <tbody>\n",
       "    <tr>\n",
       "      <th>0</th>\n",
       "      <td>UC-4kjzuh4822B9yPSgpZQgA</td>\n",
       "      <td>Matheus Yurley</td>\n",
       "      <td>2015-01-27 00:37:14</td>\n",
       "      <td>BR</td>\n",
       "      <td>595750608</td>\n",
       "      <td>0</td>\n",
       "      <td>11600000</td>\n",
       "      <td>209</td>\n",
       "    </tr>\n",
       "    <tr>\n",
       "      <th>1</th>\n",
       "      <td>UC-8Q-hLdECwQmaWNwXitYDw</td>\n",
       "      <td>KatyPerryVEVO</td>\n",
       "      <td>2009-12-13 03:04:53</td>\n",
       "      <td>US</td>\n",
       "      <td>18376186831</td>\n",
       "      <td>0</td>\n",
       "      <td>25900000</td>\n",
       "      <td>136</td>\n",
       "    </tr>\n",
       "    <tr>\n",
       "      <th>2</th>\n",
       "      <td>UC-J-KZfRV8c13fOCkhXdLiQ</td>\n",
       "      <td>Dua Lipa</td>\n",
       "      <td>2011-02-05 14:36:44</td>\n",
       "      <td>GB</td>\n",
       "      <td>3881487039</td>\n",
       "      <td>0</td>\n",
       "      <td>11400000</td>\n",
       "      <td>93</td>\n",
       "    </tr>\n",
       "    <tr>\n",
       "      <th>3</th>\n",
       "      <td>UC-lHJZR3Gqxm24_Vd_AJ5Yw</td>\n",
       "      <td>PewDiePie</td>\n",
       "      <td>2010-04-29 10:54:00</td>\n",
       "      <td>US</td>\n",
       "      <td>23936169110</td>\n",
       "      <td>0</td>\n",
       "      <td>102000000</td>\n",
       "      <td>4010</td>\n",
       "    </tr>\n",
       "    <tr>\n",
       "      <th>4</th>\n",
       "      <td>UC-LPIU24bQXVljUXivKEeRQ</td>\n",
       "      <td>StarPlus</td>\n",
       "      <td>2006-05-19 21:46:13</td>\n",
       "      <td>Null</td>\n",
       "      <td>3223274932</td>\n",
       "      <td>0</td>\n",
       "      <td>10500000</td>\n",
       "      <td>8905</td>\n",
       "    </tr>\n",
       "  </tbody>\n",
       "</table>\n",
       "</div>"
      ],
      "text/plain": [
       "                 channel_id   channel_title       creation_date country  \\\n",
       "0  UC-4kjzuh4822B9yPSgpZQgA  Matheus Yurley 2015-01-27 00:37:14      BR   \n",
       "1  UC-8Q-hLdECwQmaWNwXitYDw   KatyPerryVEVO 2009-12-13 03:04:53      US   \n",
       "2  UC-J-KZfRV8c13fOCkhXdLiQ        Dua Lipa 2011-02-05 14:36:44      GB   \n",
       "3  UC-lHJZR3Gqxm24_Vd_AJ5Yw       PewDiePie 2010-04-29 10:54:00      US   \n",
       "4  UC-LPIU24bQXVljUXivKEeRQ        StarPlus 2006-05-19 21:46:13    Null   \n",
       "\n",
       "    view_count  comment_count  subscriber_count  video_count  \n",
       "0    595750608              0          11600000          209  \n",
       "1  18376186831              0          25900000          136  \n",
       "2   3881487039              0          11400000           93  \n",
       "3  23936169110              0         102000000         4010  \n",
       "4   3223274932              0          10500000         8905  "
      ]
     },
     "execution_count": 51,
     "metadata": {},
     "output_type": "execute_result"
    }
   ],
   "source": [
    "#Query for all channel data\n",
    "cursor = db.cursor()\n",
    "\n",
    "channel_info = cursor.execute(\"\"\"SELECT * FROM youtube.channels\"\"\")\n",
    "channel_info = pd.DataFrame(cursor.fetchall())\n",
    "channel_info.columns = [x[0] for x in cursor.description]\n",
    "channel_info.head()"
   ]
  },
  {
   "cell_type": "markdown",
   "metadata": {},
   "source": [
    "GENRE IMPORT"
   ]
  },
  {
   "cell_type": "code",
   "execution_count": 50,
   "metadata": {},
   "outputs": [],
   "source": [
    "#Query for genre info from MySQL\n",
    "\n",
    "cursor = db.cursor()\n",
    "genre_info = cursor.execute(\"\"\"SELECT * FROM youtube.genres\"\"\")\n",
    "genre_info = pd.DataFrame(cursor.fetchall())\n",
    "genre_info.columns = [x[0] for x in cursor.description]"
   ]
  },
  {
   "cell_type": "markdown",
   "metadata": {},
   "source": [
    "GENRES AND CHANNELS - Join"
   ]
  },
  {
   "cell_type": "code",
   "execution_count": 49,
   "metadata": {},
   "outputs": [],
   "source": [
    "#Channel and Genre information from MySQL\n",
    "\n",
    "cursor = db.cursor()\n",
    "genre_channel_info = cursor.execute(\"\"\"SELECT * FROM channels JOIN genres USING(channel_id)\"\"\")\n",
    "genre_channel_info = pd.DataFrame(cursor.fetchall())\n",
    "genre_channel_info.columns = [x[0] for x in cursor.description]\n",
    "# genre_channel_info.head()"
   ]
  },
  {
   "cell_type": "code",
   "execution_count": 36,
   "metadata": {},
   "outputs": [],
   "source": [
    "#Groupby query for genre data visualization\n",
    "genre_channel_info = cursor.execute(\"\"\"\n",
    "                    SELECT \n",
    "                    gr.genre_name,\n",
    "                    AVG(ch.view_count), \n",
    "                    AVG(ch.video_count), \n",
    "                    AVG(ch.subscriber_count), \n",
    "                    COUNT(gr.genre_name) \n",
    "                    FROM \n",
    "                    youtube.channels ch \n",
    "                    JOIN \n",
    "                    youtube.genres gr \n",
    "                    ON \n",
    "                    ch.channel_id = gr.channel_id\n",
    "                    GROUP BY \n",
    "                    genre_name\n",
    "                    ORDER BY COUNT(gr.genre_name) DESC\n",
    "                    \"\"\")\n",
    "\n",
    "genre_avg_table = pd.DataFrame(cursor.fetchall())\n",
    "genre_avg_table.columns = [x[0] for x in cursor.description]\n"
   ]
  },
  {
   "cell_type": "markdown",
   "metadata": {},
   "source": [
    "# Statistical Analysis\n"
   ]
  },
  {
   "cell_type": "markdown",
   "metadata": {},
   "source": [
    "$$H_0: \\text {All genres are equally likely to be in top channels}$$\n",
    "$$𝐻0=𝜇1=𝜇1=𝜇3$$\n",
    "\n",
    "$$H_1: \\text {Not all genres are equally likely to be in top channels}$$ \n",
    "$$𝐻𝑎  \\text { :H0 is not true}$$\n",
    "\n",
    "\n"
   ]
  },
  {
   "cell_type": "markdown",
   "metadata": {},
   "source": [
    "ONE-WAY ANOVA:\n",
    "\n",
    "Independent variable is discrete.\n",
    "Dependendent variable should be continuous.\n"
   ]
  },
  {
   "cell_type": "code",
   "execution_count": 56,
   "metadata": {},
   "outputs": [
    {
     "data": {
      "text/html": [
       "<div>\n",
       "<style scoped>\n",
       "    .dataframe tbody tr th:only-of-type {\n",
       "        vertical-align: middle;\n",
       "    }\n",
       "\n",
       "    .dataframe tbody tr th {\n",
       "        vertical-align: top;\n",
       "    }\n",
       "\n",
       "    .dataframe thead th {\n",
       "        text-align: right;\n",
       "    }\n",
       "</style>\n",
       "<table border=\"1\" class=\"dataframe\">\n",
       "  <thead>\n",
       "    <tr style=\"text-align: right;\">\n",
       "      <th></th>\n",
       "      <th>channel_id</th>\n",
       "      <th>channel_title</th>\n",
       "      <th>creation_date</th>\n",
       "      <th>country</th>\n",
       "      <th>view_count</th>\n",
       "      <th>comment_count</th>\n",
       "      <th>subscriber_count</th>\n",
       "      <th>video_count</th>\n",
       "      <th>genre_name</th>\n",
       "    </tr>\n",
       "  </thead>\n",
       "  <tbody>\n",
       "    <tr>\n",
       "      <th>0</th>\n",
       "      <td>UC-4kjzuh4822B9yPSgpZQgA</td>\n",
       "      <td>Matheus Yurley</td>\n",
       "      <td>2015-01-27 00:37:14</td>\n",
       "      <td>BR</td>\n",
       "      <td>595750608</td>\n",
       "      <td>0</td>\n",
       "      <td>11600000</td>\n",
       "      <td>209</td>\n",
       "      <td>Entertainment</td>\n",
       "    </tr>\n",
       "    <tr>\n",
       "      <th>1</th>\n",
       "      <td>UC-4kjzuh4822B9yPSgpZQgA</td>\n",
       "      <td>Matheus Yurley</td>\n",
       "      <td>2015-01-27 00:37:14</td>\n",
       "      <td>BR</td>\n",
       "      <td>595750608</td>\n",
       "      <td>0</td>\n",
       "      <td>11600000</td>\n",
       "      <td>209</td>\n",
       "      <td>Lifestyle (Sociology)</td>\n",
       "    </tr>\n",
       "    <tr>\n",
       "      <th>4</th>\n",
       "      <td>UC-8Q-hLdECwQmaWNwXitYDw</td>\n",
       "      <td>KatyPerryVEVO</td>\n",
       "      <td>2009-12-13 03:04:53</td>\n",
       "      <td>US</td>\n",
       "      <td>18376186831</td>\n",
       "      <td>0</td>\n",
       "      <td>25900000</td>\n",
       "      <td>136</td>\n",
       "      <td>Music</td>\n",
       "    </tr>\n",
       "    <tr>\n",
       "      <th>5</th>\n",
       "      <td>UC-J-KZfRV8c13fOCkhXdLiQ</td>\n",
       "      <td>Dua Lipa</td>\n",
       "      <td>2011-02-05 14:36:44</td>\n",
       "      <td>GB</td>\n",
       "      <td>3881487039</td>\n",
       "      <td>0</td>\n",
       "      <td>11400000</td>\n",
       "      <td>93</td>\n",
       "      <td>Music</td>\n",
       "    </tr>\n",
       "    <tr>\n",
       "      <th>8</th>\n",
       "      <td>UC-lHJZR3Gqxm24_Vd_AJ5Yw</td>\n",
       "      <td>PewDiePie</td>\n",
       "      <td>2010-04-29 10:54:00</td>\n",
       "      <td>US</td>\n",
       "      <td>23936169110</td>\n",
       "      <td>0</td>\n",
       "      <td>102000000</td>\n",
       "      <td>4010</td>\n",
       "      <td>Entertainment</td>\n",
       "    </tr>\n",
       "  </tbody>\n",
       "</table>\n",
       "</div>"
      ],
      "text/plain": [
       "                 channel_id   channel_title       creation_date country  \\\n",
       "0  UC-4kjzuh4822B9yPSgpZQgA  Matheus Yurley 2015-01-27 00:37:14      BR   \n",
       "1  UC-4kjzuh4822B9yPSgpZQgA  Matheus Yurley 2015-01-27 00:37:14      BR   \n",
       "4  UC-8Q-hLdECwQmaWNwXitYDw   KatyPerryVEVO 2009-12-13 03:04:53      US   \n",
       "5  UC-J-KZfRV8c13fOCkhXdLiQ        Dua Lipa 2011-02-05 14:36:44      GB   \n",
       "8  UC-lHJZR3Gqxm24_Vd_AJ5Yw       PewDiePie 2010-04-29 10:54:00      US   \n",
       "\n",
       "    view_count  comment_count  subscriber_count  video_count  \\\n",
       "0    595750608              0          11600000          209   \n",
       "1    595750608              0          11600000          209   \n",
       "4  18376186831              0          25900000          136   \n",
       "5   3881487039              0          11400000           93   \n",
       "8  23936169110              0         102000000         4010   \n",
       "\n",
       "              genre_name  \n",
       "0          Entertainment  \n",
       "1  Lifestyle (Sociology)  \n",
       "4                  Music  \n",
       "5                  Music  \n",
       "8          Entertainment  "
      ]
     },
     "execution_count": 56,
     "metadata": {},
     "output_type": "execute_result"
    }
   ],
   "source": [
    "#Cutting the genres to TOP 3\n",
    "s = genre_channel_info['genre_name'].value_counts()\n",
    "new_genre_channel = genre_channel_info[genre_channel_info.isin(s.index[s >100]).values]\n",
    "new_genre_channel['genre_name'].value_counts()\n",
    "\n",
    "all_genres = genre_channel_info[genre_channel_info.isin(s.index[s >5]).values]\n",
    "\n",
    "new_genre_channel.head()"
   ]
  },
  {
   "cell_type": "code",
   "execution_count": 18,
   "metadata": {},
   "outputs": [],
   "source": [
    "#Create Anova Table for Genres and View_Counts\n",
    "# 'view_count~genre_name'\n",
    "import statsmodels.api as sm\n",
    "from statsmodels.formula.api import ols\n",
    "from scipy.stats import norm\n",
    "\n",
    "def run_anova_table(dependent, independent, data_):  \n",
    "    genre_stats = ols(f\"{dependent}~{independent}\", data=data_).fit()  \n",
    "    anova_table = sm.stats.anova_lm(genre_stats, type=2)\n",
    "    \n",
    "    return  genre_stats.summary(), anova_table\n"
   ]
  },
  {
   "cell_type": "code",
   "execution_count": 19,
   "metadata": {},
   "outputs": [
    {
     "data": {
      "text/html": [
       "<div>\n",
       "<style scoped>\n",
       "    .dataframe tbody tr th:only-of-type {\n",
       "        vertical-align: middle;\n",
       "    }\n",
       "\n",
       "    .dataframe tbody tr th {\n",
       "        vertical-align: top;\n",
       "    }\n",
       "\n",
       "    .dataframe thead th {\n",
       "        text-align: right;\n",
       "    }\n",
       "</style>\n",
       "<table border=\"1\" class=\"dataframe\">\n",
       "  <thead>\n",
       "    <tr style=\"text-align: right;\">\n",
       "      <th></th>\n",
       "      <th>df</th>\n",
       "      <th>sum_sq</th>\n",
       "      <th>mean_sq</th>\n",
       "      <th>F</th>\n",
       "      <th>PR(&gt;F)</th>\n",
       "    </tr>\n",
       "  </thead>\n",
       "  <tbody>\n",
       "    <tr>\n",
       "      <th>genre_name</th>\n",
       "      <td>2.0</td>\n",
       "      <td>7.503947e+20</td>\n",
       "      <td>3.751974e+20</td>\n",
       "      <td>6.110712</td>\n",
       "      <td>0.002373</td>\n",
       "    </tr>\n",
       "    <tr>\n",
       "      <th>Residual</th>\n",
       "      <td>548.0</td>\n",
       "      <td>3.364717e+22</td>\n",
       "      <td>6.139995e+19</td>\n",
       "      <td>NaN</td>\n",
       "      <td>NaN</td>\n",
       "    </tr>\n",
       "  </tbody>\n",
       "</table>\n",
       "</div>"
      ],
      "text/plain": [
       "               df        sum_sq       mean_sq         F    PR(>F)\n",
       "genre_name    2.0  7.503947e+20  3.751974e+20  6.110712  0.002373\n",
       "Residual    548.0  3.364717e+22  6.139995e+19       NaN       NaN"
      ]
     },
     "execution_count": 19,
     "metadata": {},
     "output_type": "execute_result"
    }
   ],
   "source": [
    "#ALL ANOVA TESTS FOR GENRES\n",
    "\n",
    "#view count ANOVA summary and ANOVA table\n",
    "view_count_summary, view_count_table = run_anova_table('view_count', 'genre_name', new_genre_channel)\n",
    "\n",
    "#subscriber count ANOVA summary and ANOVA table\n",
    "subscriber_count_summary, subscriber_count_table = run_anova_table('subscriber_count', 'genre_name', new_genre_channel)\n",
    "\n",
    "#video count ANOVA summary and ANOVA table\n",
    "video_count_summary, video_count_table = run_anova_table('video_count', 'genre_name', new_genre_channel)\n",
    "\n",
    "view_count_table"
   ]
  },
  {
   "cell_type": "code",
   "execution_count": 20,
   "metadata": {},
   "outputs": [],
   "source": [
    "#Perform a post-hoc test on the data to detemine all comparisons\n",
    "from statsmodels.stats.multicomp import (pairwise_tukeyhsd,\n",
    "                                         MultiComparison)\n",
    "\n",
    "def get_tukey(dependent, independent):\n",
    "# Set up the data for comparison (creates a specialised object)\n",
    "    MultiComp = MultiComparison(new_genre_channel[dependent],\n",
    "                            new_genre_channel[independent])\n",
    "    \n",
    "    return MultiComp.tukeyhsd().summary()"
   ]
  },
  {
   "cell_type": "code",
   "execution_count": 22,
   "metadata": {},
   "outputs": [
    {
     "data": {
      "text/html": [
       "<table class=\"simpletable\">\n",
       "<caption>Multiple Comparison of Means - Tukey HSD, FWER=0.05</caption>\n",
       "<tr>\n",
       "         <th>group1</th>                <th>group2</th>           <th>meandiff</th>     <th>p-adj</th>     <th>lower</th>         <th>upper</th>    <th>reject</th>\n",
       "</tr>\n",
       "<tr>\n",
       "      <td>Entertainment</td>     <td>Lifestyle (Sociology)</td> <td>-3079794.6374</td> <td>0.0252</td> <td>-5853773.8588</td>  <td>-305815.416</td>  <td>True</td> \n",
       "</tr>\n",
       "<tr>\n",
       "      <td>Entertainment</td>             <td>Music</td>          <td>642215.6718</td>  <td>0.8131</td> <td>-1967896.7891</td> <td>3252328.1328</td>  <td>False</td>\n",
       "</tr>\n",
       "<tr>\n",
       "  <td>Lifestyle (Sociology)</td>         <td>Music</td>         <td>3722010.3092</td>  <td>0.0083</td>  <td>792485.3427</td>  <td>6651535.2757</td>  <td>True</td> \n",
       "</tr>\n",
       "</table>"
      ],
      "text/plain": [
       "<class 'statsmodels.iolib.table.SimpleTable'>"
      ]
     },
     "execution_count": 22,
     "metadata": {},
     "output_type": "execute_result"
    }
   ],
   "source": [
    "#ALL TUKEY TESTS FOR GENRES\n",
    "\n",
    "#post_hoc comparison for view_counts and genres - not significant\n",
    "view_count_tukey = get_tukey('view_count', 'genre_name')\n",
    "\n",
    "#post_hoc comparison for subscriber counts and genres - not significant\n",
    "subscriber_count_tukey = get_tukey('subscriber_count', 'genre_name')\n",
    "\n",
    "# post_hoc comparison for video counts and genres - significant\n",
    "video_count_tukey = get_tukey('video_count', 'genre_name')\n",
    "\n",
    "subscriber_count_tukey"
   ]
  },
  {
   "cell_type": "code",
   "execution_count": 23,
   "metadata": {},
   "outputs": [
    {
     "data": {
      "text/html": [
       "<table class=\"simpletable\">\n",
       "<caption>Multiple Comparison of Means - Tukey HSD, FWER=0.05</caption>\n",
       "<tr>\n",
       "         <th>group1</th>                <th>group2</th>          <th>meandiff</th>   <th>p-adj</th>    <th>lower</th>      <th>upper</th>   <th>reject</th>\n",
       "</tr>\n",
       "<tr>\n",
       "      <td>Entertainment</td>     <td>Lifestyle (Sociology)</td> <td>-4391.0092</td> <td>0.0121</td> <td>-7993.8225</td>  <td>-788.1959</td>  <td>True</td> \n",
       "</tr>\n",
       "<tr>\n",
       "      <td>Entertainment</td>             <td>Music</td>         <td>-4637.4395</td> <td>0.0039</td> <td>-8027.4245</td> <td>-1247.4545</td>  <td>True</td> \n",
       "</tr>\n",
       "<tr>\n",
       "  <td>Lifestyle (Sociology)</td>         <td>Music</td>          <td>-246.4303</td>   <td>0.9</td>  <td>-4051.2647</td>  <td>3558.4041</td>  <td>False</td>\n",
       "</tr>\n",
       "</table>"
      ],
      "text/plain": [
       "<class 'statsmodels.iolib.table.SimpleTable'>"
      ]
     },
     "execution_count": 23,
     "metadata": {},
     "output_type": "execute_result"
    }
   ],
   "source": [
    "video_count_tukey"
   ]
  },
  {
   "cell_type": "code",
   "execution_count": 24,
   "metadata": {},
   "outputs": [
    {
     "data": {
      "text/html": [
       "<table class=\"simpletable\">\n",
       "<caption>Multiple Comparison of Means - Tukey HSD, FWER=0.05</caption>\n",
       "<tr>\n",
       "         <th>group1</th>                <th>group2</th>            <th>meandiff</th>      <th>p-adj</th>       <th>lower</th>           <th>upper</th>      <th>reject</th>\n",
       "</tr>\n",
       "<tr>\n",
       "      <td>Entertainment</td>     <td>Lifestyle (Sociology)</td> <td>-2038734277.506</td> <td>0.0389</td> <td>-3995660772.9436</td> <td>-81807782.0685</td>   <td>True</td> \n",
       "</tr>\n",
       "<tr>\n",
       "      <td>Entertainment</td>             <td>Music</td>         <td>998910057.3494</td>  <td>0.4116</td>  <td>-842415281.9031</td> <td>2840235396.602</td>   <td>False</td>\n",
       "</tr>\n",
       "<tr>\n",
       "  <td>Lifestyle (Sociology)</td>         <td>Music</td>         <td>3037644334.8555</td> <td>0.0017</td>   <td>970986812.051</td>  <td>5104301857.6599</td>  <td>True</td> \n",
       "</tr>\n",
       "</table>"
      ],
      "text/plain": [
       "<class 'statsmodels.iolib.table.SimpleTable'>"
      ]
     },
     "execution_count": 24,
     "metadata": {},
     "output_type": "execute_result"
    }
   ],
   "source": [
    "view_count_tukey"
   ]
  },
  {
   "cell_type": "code",
   "execution_count": 45,
   "metadata": {},
   "outputs": [
    {
     "data": {
      "text/plain": [
       "F_onewayResult(statistic=6.110711515651967, pvalue=0.0023730770534201267)"
      ]
     },
     "execution_count": 45,
     "metadata": {},
     "output_type": "execute_result"
    }
   ],
   "source": [
    "#Manually running a ONE-WAY ANOVA to make sure the other is operating correctly\n",
    "import statsmodels.api as sm\n",
    "import scipy.stats as stats\n",
    "stats.f_oneway(new_genre_channel['view_count'][new_genre_channel['genre_name'] == 'Entertainment'], \n",
    "             new_genre_channel['view_count'][new_genre_channel['genre_name'] == 'Lifestyle (Sociology)'],\n",
    "             new_genre_channel['view_count'][new_genre_channel['genre_name'] == 'Music'])"
   ]
  },
  {
   "cell_type": "code",
   "execution_count": 46,
   "metadata": {},
   "outputs": [
    {
     "data": {
      "text/plain": [
       "(<class 'statsmodels.iolib.summary.Summary'>\n",
       " \"\"\"\n",
       "                             OLS Regression Results                            \n",
       " ==============================================================================\n",
       " Dep. Variable:             view_count   R-squared:                       0.043\n",
       " Model:                            OLS   Adj. R-squared:                  0.041\n",
       " Method:                 Least Squares   F-statistic:                     17.96\n",
       " Date:                Tue, 19 Nov 2019   Prob (F-statistic):           2.81e-05\n",
       " Time:                        08:57:16   Log-Likelihood:                -9579.9\n",
       " No. Observations:                 397   AIC:                         1.916e+04\n",
       " Df Residuals:                     395   BIC:                         1.917e+04\n",
       " Df Model:                           1                                         \n",
       " Covariance Type:            nonrobust                                         \n",
       " ===============================================================================\n",
       "                   coef    std err          t      P>|t|      [0.025      0.975]\n",
       " -------------------------------------------------------------------------------\n",
       " Intercept    5.987e+09   3.82e+08     15.682      0.000    5.24e+09    6.74e+09\n",
       " video_count  8.613e+04   2.03e+04      4.238      0.000    4.62e+04    1.26e+05\n",
       " ==============================================================================\n",
       " Omnibus:                      430.747   Durbin-Watson:                   2.030\n",
       " Prob(Omnibus):                  0.000   Jarque-Bera (JB):            29250.336\n",
       " Skew:                           4.681   Prob(JB):                         0.00\n",
       " Kurtosis:                      43.995   Cond. No.                     1.95e+04\n",
       " ==============================================================================\n",
       " \n",
       " Warnings:\n",
       " [1] Standard Errors assume that the covariance matrix of the errors is correctly specified.\n",
       " [2] The condition number is large, 1.95e+04. This might indicate that there are\n",
       " strong multicollinearity or other numerical problems.\n",
       " \"\"\", 2.8125388045932456e-05)"
      ]
     },
     "execution_count": 46,
     "metadata": {},
     "output_type": "execute_result"
    }
   ],
   "source": [
    "#Regression Analysis for Video Count and View Count\n",
    "\n",
    "def run_regression(dependent, independent, data_):  \n",
    "    genre_stats = ols(f\"{dependent}~{independent}\", data=data_).fit()  \n",
    "    p = genre_stats.f_pvalue\n",
    "    return genre_stats.summary(), p\n",
    "\n",
    "run_regression('view_count', 'video_count', channel_info)\n"
   ]
  },
  {
   "cell_type": "code",
   "execution_count": 47,
   "metadata": {},
   "outputs": [],
   "source": [
    "#Looking at regression output for viewcount and videocount\n",
    "video_count_t = 8.61/2.03\n",
    "t_square= 4.238**2\n",
    "p_value = 2.8125388045932456e-05\n"
   ]
  },
  {
   "cell_type": "markdown",
   "metadata": {},
   "source": [
    "# Plotting"
   ]
  },
  {
   "cell_type": "markdown",
   "metadata": {},
   "source": [
    "Data Visualizations for Analytics\n"
   ]
  },
  {
   "cell_type": "code",
   "execution_count": 41,
   "metadata": {},
   "outputs": [
    {
     "data": {
      "image/png": "[encoded data removed]",
      "text/plain": [
       "<Figure size 1008x1008 with 3 Axes>"
      ]
     },
     "metadata": {},
     "output_type": "display_data"
    }
   ],
   "source": [
    "#Visualization of Subscriber Count, View Count, and Video Count by Genre\n",
    "test = genre_avg_table.head(3)\n",
    "\n",
    "grid = (3,3) # Make a 2x2 axis grid to plot four plots in the same figure\n",
    "fig = plt.figure(figsize=(14,14))\n",
    "ax1 = plt.subplot2grid(grid, (0,0)) # First ax in position (0,0) (top left)\n",
    "ax2 = plt.subplot2grid(grid, (0,1)) # Second ax in position (0,1) (top right)\n",
    "ax3 = plt.subplot2grid(grid, (0,2)) # Third ax in position (1,0) (bottom left)\n",
    "\n",
    "\n",
    "sns.barplot(x=test['genre_name'],y =test['AVG(ch.subscriber_count)'], ax=ax1)\n",
    "ax1.set_title('Subscriber Count by Genre Tag');\n",
    "ax1.set_xlabel('Genre Tag'), ax1.set_ylabel('Total Subscriber Count');\n",
    "\n",
    "sns.barplot(x=test['genre_name'],y =test['AVG(ch.view_count)'], ax=ax2)\n",
    "ax2.set_title('View Count by Genre Tag');\n",
    "ax2.set_xlabel('Genre Tag'), ax2.set_ylabel('Total View Count');\n",
    "\n",
    "sns.barplot(x=test['genre_name'],y =test['AVG(ch.video_count)'], ax=ax3)\n",
    "ax3.set_title('Video Count by Genre Tag');\n",
    "ax3.set_xlabel('Genre Tag'), ax3.set_ylabel('Total Video Count');\n",
    "\n",
    "# plt.setp(axes, yticks=[])\n",
    "plt.tight_layout()"
   ]
  },
  {
   "cell_type": "code",
   "execution_count": 53,
   "metadata": {},
   "outputs": [
    {
     "data": {
      "text/plain": [
       "[Text(0, 0.5, 'Channel Genre Tag'),\n",
       " Text(0.5, 0, 'Subscriber Count(Millions)'),\n",
       " Text(0.5, 1.0, 'Subscriber Count by Genre Tag')]"
      ]
     },
     "execution_count": 53,
     "metadata": {},
     "output_type": "execute_result"
    },
    {
     "data": {
      "image/png": "[encoded data removed]",
      "text/plain": [
       "<Figure size 864x432 with 1 Axes>"
      ]
     },
     "metadata": {},
     "output_type": "display_data"
    }
   ],
   "source": [
    "#Visualization of Genre Tag and Subscriber Counts\n",
    "plt.figure(figsize=(12, 6))\n",
    "\n",
    "sns.set(style=\"ticks\", palette=\"vlag\")\n",
    "\n",
    "genre_plot = sns.boxplot(x = all_genres['subscriber_count'], y=all_genres['genre_name'], palette=\"vlag\")\n",
    "clarity_ranking = [\"I1\", \"SI2\", \"SI1\", \"VS2\", \"VS1\", \"VVS2\", \"VVS1\", \"IF\"]\n",
    "genre_plot.set(xlabel = \"Subscriber Count(Millions)\", ylabel='Channel Genre Tag', title='Subscriber Count by Genre Tag')\n"
   ]
  },
  {
   "cell_type": "code",
   "execution_count": 54,
   "metadata": {},
   "outputs": [
    {
     "data": {
      "text/plain": [
       "[Text(0, 0.5, 'Channel Genre Tag'),\n",
       " Text(0.5, 0, 'View Count (Billions)'),\n",
       " Text(0.5, 1.0, 'View Count by Genre Tag')]"
      ]
     },
     "execution_count": 54,
     "metadata": {},
     "output_type": "execute_result"
    },
    {
     "data": {
      "image/png": "[encoded data removed]",
      "text/plain": [
       "<Figure size 864x432 with 1 Axes>"
      ]
     },
     "metadata": {
      "needs_background": "light"
     },
     "output_type": "display_data"
    }
   ],
   "source": [
    "#Visualization of view counts and genre tags\n",
    "\n",
    "import numpy as np\n",
    "import matplotlib.pyplot as plt\n",
    "import seaborn as sns\n",
    "%matplotlib inline\n",
    "\n",
    "plt.figure(figsize=(12, 6))\n",
    "\n",
    "sns.set(style=\"ticks\", palette=\"vlag\")\n",
    "\n",
    "genre_plot = sns.boxplot(x = all_genres['view_count'], y=all_genres['genre_name'], palette=\"vlag\")\n",
    "clarity_ranking = [\"I1\", \"SI2\", \"SI1\", \"VS2\", \"VS1\", \"VVS2\", \"VVS1\", \"IF\"]\n",
    "genre_plot.set(xlabel = \"View Count (Billions)\", ylabel='Channel Genre Tag', title='View Count by Genre Tag')\n"
   ]
  },
  {
   "cell_type": "code",
   "execution_count": null,
   "metadata": {},
   "outputs": [],
   "source": []
  }
 ],
 "metadata": {
  "kernelspec": {
   "display_name": "Python 3",
   "language": "python",
   "name": "python3"
  },
  "language_info": {
   "codemirror_mode": {
    "name": "ipython",
    "version": 3
   },
   "file_extension": ".py",
   "mimetype": "text/x-python",
   "name": "python",
   "nbconvert_exporter": "python",
   "pygments_lexer": "ipython3",
   "version": "3.7.3"
  }
 },
 "nbformat": 4,
 "nbformat_minor": 2
}
